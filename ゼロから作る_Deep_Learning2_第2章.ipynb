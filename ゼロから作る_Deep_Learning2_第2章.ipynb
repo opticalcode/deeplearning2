{
  "nbformat": 4,
  "nbformat_minor": 0,
  "metadata": {
    "colab": {
      "name": "ゼロから作る Deep Learning2 第2章",
      "provenance": [],
      "collapsed_sections": [],
      "authorship_tag": "ABX9TyM3GOqYcji4qmjCsY6yQPjE",
      "include_colab_link": true
    },
    "kernelspec": {
      "name": "python3",
      "display_name": "Python 3"
    }
  },
  "cells": [
    {
      "cell_type": "markdown",
      "metadata": {
        "id": "view-in-github",
        "colab_type": "text"
      },
      "source": [
        "<a href=\"https://colab.research.google.com/github/opticalcode/deeplearning2/blob/master/%E3%82%BC%E3%83%AD%E3%81%8B%E3%82%89%E4%BD%9C%E3%82%8B_Deep_Learning2_%E7%AC%AC2%E7%AB%A0.ipynb\" target=\"_parent\"><img src=\"https://colab.research.google.com/assets/colab-badge.svg\" alt=\"Open In Colab\"/></a>"
      ]
    },
    {
      "cell_type": "code",
      "metadata": {
        "id": "qY8BnHTpwFTW",
        "colab_type": "code",
        "outputId": "0032b2f6-5224-44ae-a3f9-5d2f32e054a8",
        "colab": {
          "base_uri": "https://localhost:8080/",
          "height": 35
        }
      },
      "source": [
        "from google.colab import drive\n",
        "drive.mount('/content/drive')"
      ],
      "execution_count": 0,
      "outputs": [
        {
          "output_type": "stream",
          "text": [
            "Drive already mounted at /content/drive; to attempt to forcibly remount, call drive.mount(\"/content/drive\", force_remount=True).\n"
          ],
          "name": "stdout"
        }
      ]
    },
    {
      "cell_type": "markdown",
      "metadata": {
        "id": "2G42cr38xJLv",
        "colab_type": "text"
      },
      "source": [
        "2章\n",
        "* 自然言語と単語の分散表現"
      ]
    },
    {
      "cell_type": "markdown",
      "metadata": {
        "id": "hQvqP9VcxtaO",
        "colab_type": "text"
      },
      "source": [
        "2.１ 自然言語処理とは\n",
        "* 自然言語処理とは、「私たちの言葉をコンピューターに理解させるための技術」"
      ]
    },
    {
      "cell_type": "markdown",
      "metadata": {
        "id": "xZoATTscypDt",
        "colab_type": "text"
      },
      "source": [
        "2.1.1 単語の意味\n",
        "* 自然言語をコンピュータに理解させるためには、「単語の意味」を理解させることが重要。\n",
        "* 単語の意味を捉えた３つの手法を見ていく。\n",
        "* ソシーラスによる手法\n",
        "* カウントベースによる手法\n",
        "* 推論ベースの手法（word 2vec)"
      ]
    },
    {
      "cell_type": "markdown",
      "metadata": {
        "id": "pVzV2afAz9WD",
        "colab_type": "text"
      },
      "source": [
        "2.2 ソシーラス\n",
        "* ソシーラスとは類似辞書\n",
        "* 「同じ意味の単語（同義語）」や「意味の似た単語（類義語）」が同じグループに分類されている。"
      ]
    },
    {
      "cell_type": "markdown",
      "metadata": {
        "id": "liAhMeWj1DwX",
        "colab_type": "text"
      },
      "source": [
        "2.2.1 WordNet\n",
        "* WordNetはプリンストン大学で、1985年に開発がスタートした伝統のあるソシーラス。"
      ]
    },
    {
      "cell_type": "markdown",
      "metadata": {
        "id": "lBj27ey31go6",
        "colab_type": "text"
      },
      "source": [
        "2.2.2 ソシーラスの問題点\n",
        "* 時代の変化に対応するのが困難\n",
        "* 人の作業コストが高い\n",
        "* 単語の細やかなニュアンスが表現できない\n",
        "* このような問題を避けるために、「カウントベース手法」とニューラルネットワークを使った「推論ベースの手法」がある。"
      ]
    },
    {
      "cell_type": "markdown",
      "metadata": {
        "id": "65t9HEQ8B4yU",
        "colab_type": "text"
      },
      "source": [
        "2.3 カウントベースの手法\n",
        "* カウントベースの手法に進むにあたって、コーパスを使用する。\n",
        "* コーパスとは、自然言語処理の研究やアプリケーションの目的を持って収集されたテキストデータ。\n",
        "* カウントベースの手法の目標は、そのような人の知識が詰まったコーパスから、自動的に、効率てよく、そのエッセンスを抽出すること。"
      ]
    },
    {
      "cell_type": "markdown",
      "metadata": {
        "id": "02je9Q5SEz6C",
        "colab_type": "text"
      },
      "source": [
        "2.3.1 Pythonによるコーパスの下準備\n"
      ]
    },
    {
      "cell_type": "code",
      "metadata": {
        "id": "gGeGhlXyFr-x",
        "colab_type": "code",
        "outputId": "152ca611-0172-4f88-9e75-21950c0bda2c",
        "colab": {
          "base_uri": "https://localhost:8080/",
          "height": 35
        }
      },
      "source": [
        "text = 'You say goodbye and I say hello.'\n",
        "text = text.lower()\n",
        "text = text.replace('.',' .')\n",
        "text"
      ],
      "execution_count": 0,
      "outputs": [
        {
          "output_type": "execute_result",
          "data": {
            "text/plain": [
              "'you say goodbye and i say hello .'"
            ]
          },
          "metadata": {
            "tags": []
          },
          "execution_count": 2
        }
      ]
    },
    {
      "cell_type": "code",
      "metadata": {
        "id": "grPhG-2iIoH6",
        "colab_type": "code",
        "outputId": "99773ad2-8263-4408-b939-1af3cd7c2244",
        "colab": {
          "base_uri": "https://localhost:8080/",
          "height": 35
        }
      },
      "source": [
        "words = text.split(' ')\n",
        "words "
      ],
      "execution_count": 0,
      "outputs": [
        {
          "output_type": "execute_result",
          "data": {
            "text/plain": [
              "['you', 'say', 'goodbye', 'and', 'i', 'say', 'hello', '.']"
            ]
          },
          "metadata": {
            "tags": []
          },
          "execution_count": 3
        }
      ]
    },
    {
      "cell_type": "code",
      "metadata": {
        "id": "nUAP-KfPJBT-",
        "colab_type": "code",
        "outputId": "0bac9b7e-18be-439a-ee69-75bdb162ae4f",
        "colab": {
          "base_uri": "https://localhost:8080/",
          "height": 35
        }
      },
      "source": [
        "word_to_id = {}\n",
        "id_to_word = {}\n",
        "\n",
        "for word in words:\n",
        "  if word not in word_to_id:\n",
        "      new_id = len(word_to_id)\n",
        "      word_to_id[word] = new_id\n",
        "      id_to_word[new_id] = word\n",
        "\n",
        "id_to_word        "
      ],
      "execution_count": 0,
      "outputs": [
        {
          "output_type": "execute_result",
          "data": {
            "text/plain": [
              "{0: 'you', 1: 'say', 2: 'goodbye', 3: 'and', 4: 'i', 5: 'hello', 6: '.'}"
            ]
          },
          "metadata": {
            "tags": []
          },
          "execution_count": 4
        }
      ]
    },
    {
      "cell_type": "code",
      "metadata": {
        "id": "lo5DfHdnKP4H",
        "colab_type": "code",
        "outputId": "82309ffa-9821-494c-e5f8-3690c53f1d36",
        "colab": {
          "base_uri": "https://localhost:8080/",
          "height": 35
        }
      },
      "source": [
        "word_to_id"
      ],
      "execution_count": 0,
      "outputs": [
        {
          "output_type": "execute_result",
          "data": {
            "text/plain": [
              "{'.': 6, 'and': 3, 'goodbye': 2, 'hello': 5, 'i': 4, 'say': 1, 'you': 0}"
            ]
          },
          "metadata": {
            "tags": []
          },
          "execution_count": 5
        }
      ]
    },
    {
      "cell_type": "code",
      "metadata": {
        "id": "Rdm2hXMzKZ2O",
        "colab_type": "code",
        "outputId": "507a85db-1b35-42ed-bae2-844047d4cfca",
        "colab": {
          "base_uri": "https://localhost:8080/",
          "height": 35
        }
      },
      "source": [
        "id_to_word[1]"
      ],
      "execution_count": 0,
      "outputs": [
        {
          "output_type": "execute_result",
          "data": {
            "text/plain": [
              "'say'"
            ]
          },
          "metadata": {
            "tags": []
          },
          "execution_count": 6
        }
      ]
    },
    {
      "cell_type": "code",
      "metadata": {
        "id": "QubRqO47Keic",
        "colab_type": "code",
        "outputId": "43e6631d-dc81-49ad-cc0e-3654d7daed31",
        "colab": {
          "base_uri": "https://localhost:8080/",
          "height": 35
        }
      },
      "source": [
        "word_to_id['hello']"
      ],
      "execution_count": 0,
      "outputs": [
        {
          "output_type": "execute_result",
          "data": {
            "text/plain": [
              "5"
            ]
          },
          "metadata": {
            "tags": []
          },
          "execution_count": 7
        }
      ]
    },
    {
      "cell_type": "code",
      "metadata": {
        "id": "HYWT1lcfKotS",
        "colab_type": "code",
        "outputId": "4f63095a-a7ad-41ce-f7a1-b13ac3d6d99c",
        "colab": {
          "base_uri": "https://localhost:8080/",
          "height": 35
        }
      },
      "source": [
        "import numpy as np\n",
        "corpus = [word_to_id[w] for w in words]\n",
        "corpus = np.array(corpus)\n",
        "corpus"
      ],
      "execution_count": 0,
      "outputs": [
        {
          "output_type": "execute_result",
          "data": {
            "text/plain": [
              "array([0, 1, 2, 3, 4, 1, 5, 6])"
            ]
          },
          "metadata": {
            "tags": []
          },
          "execution_count": 8
        }
      ]
    },
    {
      "cell_type": "code",
      "metadata": {
        "id": "5YgkOg4fLBko",
        "colab_type": "code",
        "colab": {}
      },
      "source": [
        "def preprocess(text):\n",
        "    text = text.lower()\n",
        "    text = text.replace('.',' .')\n",
        "    words = text.split(' ')\n",
        "\n",
        "    word_to_id = {}\n",
        "    id_to_word = {}\n",
        "    for word in words:\n",
        "        new_id = len(word_to_id)\n",
        "        word_to_id[word] = new_id\n",
        "        id_to_word[new_id] = word\n",
        "\n",
        "    corpus = np.array([word_to_id[w] for w in words])\n",
        "\n",
        "    return corpus, word_to_id, id_to_word    "
      ],
      "execution_count": 0,
      "outputs": []
    },
    {
      "cell_type": "code",
      "metadata": {
        "id": "L37N6cNjMT5u",
        "colab_type": "code",
        "colab": {}
      },
      "source": [
        "text = 'You say goodby and I say hello.'\n",
        "corpus, word_to_id, id_to_word = preprocess(text)"
      ],
      "execution_count": 0,
      "outputs": []
    },
    {
      "cell_type": "markdown",
      "metadata": {
        "id": "xBOYaWFfM06q",
        "colab_type": "text"
      },
      "source": [
        "2.3.2 単語の分散表現\n",
        "* 分散表現とは「単語の意味」を的確に捉えたベクトル表現。"
      ]
    },
    {
      "cell_type": "markdown",
      "metadata": {
        "id": "SMsSe81fQaaj",
        "colab_type": "text"
      },
      "source": [
        "2.3.3 分布仮説\n",
        "* 「単語の意味は、周囲の単語によって形成される」"
      ]
    },
    {
      "cell_type": "markdown",
      "metadata": {
        "id": "QQznXOQZQuTb",
        "colab_type": "text"
      },
      "source": [
        "2.3.4 共起行列"
      ]
    },
    {
      "cell_type": "code",
      "metadata": {
        "id": "KKY2YnzqRm1K",
        "colab_type": "code",
        "outputId": "5b7d135b-862a-422b-b78e-f2466f01e3a3",
        "colab": {
          "base_uri": "https://localhost:8080/",
          "height": 35
        }
      },
      "source": [
        "import sys\n",
        "sys.path.append('/content/drive/My Drive/deep-learning-from-scratch-2-master')\n",
        "import numpy as np\n",
        "from common.util import preprocess\n",
        "\n",
        "text = 'You say goodbye and I say hello.'\n",
        "corpus, word_to_id, id_to_word = preprocess(text)\n",
        "\n",
        "print(corpus)"
      ],
      "execution_count": 0,
      "outputs": [
        {
          "output_type": "stream",
          "text": [
            "[0 1 2 3 4 1 5 6]\n"
          ],
          "name": "stdout"
        }
      ]
    },
    {
      "cell_type": "code",
      "metadata": {
        "id": "PwAqC_o0TATU",
        "colab_type": "code",
        "outputId": "1dfd1d24-8638-4012-86d8-0e3ca1e90a3c",
        "colab": {
          "base_uri": "https://localhost:8080/",
          "height": 35
        }
      },
      "source": [
        "print(id_to_word)"
      ],
      "execution_count": 0,
      "outputs": [
        {
          "output_type": "stream",
          "text": [
            "{0: 'you', 1: 'say', 2: 'goodbye', 3: 'and', 4: 'i', 5: 'hello', 6: '.'}\n"
          ],
          "name": "stdout"
        }
      ]
    },
    {
      "cell_type": "code",
      "metadata": {
        "id": "n8LYo2QJTT3I",
        "colab_type": "code",
        "colab": {}
      },
      "source": [
        "C = np.array([\n",
        "    [0, 1, 0, 0, 0, 0, 0],\n",
        "    [1, 0, 1, 0, 1, 1, 0],\n",
        "    [0, 1, 0, 1, 0, 0, 0],\n",
        "    [0, 0, 1, 0, 1, 0, 0],\n",
        "    [0, 1, 0, 1, 0, 0, 0],\n",
        "    [0, 1, 0, 0, 0, 0, 1],\n",
        "    [0, 0, 0, 0, 0, 1, 0],\n",
        "], dtype=np.int32)"
      ],
      "execution_count": 0,
      "outputs": []
    },
    {
      "cell_type": "code",
      "metadata": {
        "id": "fXrMjMwXU2kN",
        "colab_type": "code",
        "outputId": "64ccb005-4242-49f9-ddd2-3a0d33796c64",
        "colab": {
          "base_uri": "https://localhost:8080/",
          "height": 35
        }
      },
      "source": [
        "print(C[0])"
      ],
      "execution_count": 0,
      "outputs": [
        {
          "output_type": "stream",
          "text": [
            "[0 1 0 0 0 0 0]\n"
          ],
          "name": "stdout"
        }
      ]
    },
    {
      "cell_type": "code",
      "metadata": {
        "id": "_YqomDRfU7mF",
        "colab_type": "code",
        "outputId": "922bc275-fc27-4770-d5e5-7437c91855ce",
        "colab": {
          "base_uri": "https://localhost:8080/",
          "height": 35
        }
      },
      "source": [
        "print(C[4])"
      ],
      "execution_count": 0,
      "outputs": [
        {
          "output_type": "stream",
          "text": [
            "[0 1 0 1 0 0 0]\n"
          ],
          "name": "stdout"
        }
      ]
    },
    {
      "cell_type": "code",
      "metadata": {
        "id": "VVmSrryNVGPT",
        "colab_type": "code",
        "outputId": "a51b81a9-0527-4010-941e-eb8ba48a9331",
        "colab": {
          "base_uri": "https://localhost:8080/",
          "height": 35
        }
      },
      "source": [
        "print(C[word_to_id['goodbye']])"
      ],
      "execution_count": 0,
      "outputs": [
        {
          "output_type": "stream",
          "text": [
            "[0 1 0 1 0 0 0]\n"
          ],
          "name": "stdout"
        }
      ]
    },
    {
      "cell_type": "code",
      "metadata": {
        "id": "ujQGb4yQVXqb",
        "colab_type": "code",
        "colab": {}
      },
      "source": [
        "def create_co_matrix(corpus, vocab_size, window_size=1):\n",
        "    corpus_size = len(corpus)\n",
        "    co.matrix = np.zeros((vocab_size, vocab_size), dtype=no.int32)\n",
        "\n",
        "    for idx, word_id in enumerate(corpus):\n",
        "        for i in range(1, window_size + 1):\n",
        "            left_idx = idx - i\n",
        "            right_idx = idx + i\n",
        "\n",
        "            if left_idx >= 0:\n",
        "                left_word_id = corpus[left_idx]\n",
        "                co_matrix[word_id, left_word_id] += 1\n",
        "\n",
        "            if right_idx <= corpus_size:\n",
        "                right_word_id = corpus[right_idx]\n",
        "                co.matrix[word_id, right_word_id] += 1\n",
        "\n",
        "    return co_matrix                   "
      ],
      "execution_count": 0,
      "outputs": []
    },
    {
      "cell_type": "markdown",
      "metadata": {
        "id": "qEPLhPXGXy-E",
        "colab_type": "text"
      },
      "source": [
        "2.3.5 ベクトル間の類似度\n",
        "* 単語のベクトル表現の類似度に関しては、コサイン類似度がよく用いられる。"
      ]
    },
    {
      "cell_type": "code",
      "metadata": {
        "id": "4XftAH98YPrH",
        "colab_type": "code",
        "colab": {}
      },
      "source": [
        "def cos_similarity(x, y):\n",
        "    nx = x / np.sqrt(np.sum(x**2))\n",
        "    ny = y / np.sqrt(np.sum(y**2))\n",
        "    return np.dot(nx, ny)"
      ],
      "execution_count": 0,
      "outputs": []
    },
    {
      "cell_type": "code",
      "metadata": {
        "id": "afZ-gpxHZTHi",
        "colab_type": "code",
        "colab": {}
      },
      "source": [
        "def cos_similarity(x, y, eps=1e-8):\n",
        "    nx = x / (np.sqrt(np.sum(x ** 2)) + eps)\n",
        "    ny = y / (np.sqrt(np.sum(y ** 2)) + eps)\n",
        "    return np.dot(nx, ny)"
      ],
      "execution_count": 0,
      "outputs": []
    },
    {
      "cell_type": "code",
      "metadata": {
        "id": "XEC5NA4maHNU",
        "colab_type": "code",
        "outputId": "7537cc59-2aca-40e1-e1ef-7dec98fea211",
        "colab": {
          "base_uri": "https://localhost:8080/",
          "height": 35
        }
      },
      "source": [
        "import sys\n",
        "sys.path.append('/content/drive/My Drive/deep-learning-from-scratch-2-master')\n",
        "from common.util import preprocess, create_co_matrix, cos_similarity\n",
        "\n",
        "text = 'You say goodbye adn I say hello.'\n",
        "corpus, word_to_id, id_to_word = preprocess(text)\n",
        "vocab_size = len(word_to_id)\n",
        "C = create_co_matrix(corpus, vocab_size)\n",
        "\n",
        "c0 = C[word_to_id['you']]\n",
        "c1 = C[word_to_id['i']]\n",
        "print(cos_similarity(c0, c1))"
      ],
      "execution_count": 0,
      "outputs": [
        {
          "output_type": "stream",
          "text": [
            "0.7071067691154799\n"
          ],
          "name": "stdout"
        }
      ]
    },
    {
      "cell_type": "markdown",
      "metadata": {
        "id": "t_GNh3Ejb8wr",
        "colab_type": "text"
      },
      "source": [
        "2.3.6 類似単語のランキング表示"
      ]
    },
    {
      "cell_type": "code",
      "metadata": {
        "id": "WNENNgQucD9_",
        "colab_type": "code",
        "colab": {}
      },
      "source": [
        "def most_similar(query, word_to_id, id_to_word, word_matrix, top=5):\n",
        "    #❶クエリを取り出す\n",
        "    if query not in word_to_id:\n",
        "       print('%s is not found' % query)\n",
        "       return\n",
        "\n",
        "    print('\\n[query' + query)\n",
        "    query_id = word_to_id[query]\n",
        "    query_vec = word_matrix[query_id]\n",
        "\n",
        "    #❷コサイン類似度の算出\n",
        "    vocab_size = len(id_to_word)\n",
        "    similarity = np.zeros(vocab_size)\n",
        "    for i in range(vocab_size):\n",
        "        similarity[i] = cos_similarity(word_matrix[i], query_vec)\n",
        "\n",
        "    #❸コサイン類似度の結果から、その値を高い順に出力\n",
        "    count = 0\n",
        "    for i in (-1 * similarity).argsort():\n",
        "        if id_to_word[i] == query:\n",
        "            continue\n",
        "\n",
        "        print(' %s: %s' % (id_to_word[i], cos_similarity[i]))\n",
        "\n",
        "        count += 1\n",
        "        if count >= top:\n",
        "            return          "
      ],
      "execution_count": 0,
      "outputs": []
    },
    {
      "cell_type": "code",
      "metadata": {
        "id": "QD4GzWs_e8I0",
        "colab_type": "code",
        "outputId": "9dd85bea-f055-4dec-fb49-f653c8912cfd",
        "colab": {
          "base_uri": "https://localhost:8080/",
          "height": 35
        }
      },
      "source": [
        "x = np.array([100, -20, 2])\n",
        "x.argsort()"
      ],
      "execution_count": 0,
      "outputs": [
        {
          "output_type": "execute_result",
          "data": {
            "text/plain": [
              "array([1, 2, 0])"
            ]
          },
          "metadata": {
            "tags": []
          },
          "execution_count": 22
        }
      ]
    },
    {
      "cell_type": "code",
      "metadata": {
        "id": "OdzDjdF-fHMg",
        "colab_type": "code",
        "outputId": "78939e5f-b4b2-47bb-e8c5-208c8550b60e",
        "colab": {
          "base_uri": "https://localhost:8080/",
          "height": 35
        }
      },
      "source": [
        "(-x).argsort()"
      ],
      "execution_count": 0,
      "outputs": [
        {
          "output_type": "execute_result",
          "data": {
            "text/plain": [
              "array([0, 2, 1])"
            ]
          },
          "metadata": {
            "tags": []
          },
          "execution_count": 23
        }
      ]
    },
    {
      "cell_type": "code",
      "metadata": {
        "id": "m5RGAe3KnFg1",
        "colab_type": "code",
        "outputId": "1c9b0a69-00c0-4e3e-9555-64da4db9b0be",
        "colab": {
          "base_uri": "https://localhost:8080/",
          "height": 143
        }
      },
      "source": [
        "import sys\n",
        "sys.path.append('/content/drive/My Drive/deep-learning-from-scratch-2-master')\n",
        "from common.util import preprocess, create_co_matrix, most_similar\n",
        "\n",
        "text = 'You say goodbye and I say hello.'\n",
        "corpus, word_to_id, id_to_word = preprocess(text)\n",
        "vocab_size = len(word_to_id)\n",
        "C = create_co_matrix(corpus, vocab_size)\n",
        "\n",
        "most_similar('you',word_to_id, id_to_word, C, top=5)"
      ],
      "execution_count": 0,
      "outputs": [
        {
          "output_type": "stream",
          "text": [
            "\n",
            "[query] you\n",
            " goodbye: 0.7071067691154799\n",
            " i: 0.7071067691154799\n",
            " hello: 0.7071067691154799\n",
            " say: 0.0\n",
            " and: 0.0\n"
          ],
          "name": "stdout"
        }
      ]
    },
    {
      "cell_type": "markdown",
      "metadata": {
        "id": "eB3YngbruciH",
        "colab_type": "text"
      },
      "source": [
        "* 「you」という単語をクエリに対して類似語を上位から5つ、コサイン類似度で表示した。\n",
        "* 「you」に近い単語は「i」、「goodbye」、「hello」という結果になった。\n",
        "* 「you」と「i」はお互い人称代名詞で近いと取れるが、「goodbye」「hello」はまだ私の感覚とはズレがある。\n",
        "* これは、コーパスのサイズが極端に小さいことが原因である。"
      ]
    },
    {
      "cell_type": "markdown",
      "metadata": {
        "id": "8zbqD1wzwb4T",
        "colab_type": "text"
      },
      "source": [
        "2.4 カウントベースの手法の改善\n",
        "* 単語の共起ベクトルを作り、単語ベクトルで表示することに成功した。\n",
        "* しかし、まだ改善すべきところがある。"
      ]
    },
    {
      "cell_type": "markdown",
      "metadata": {
        "id": "mqLf7QL7xJDM",
        "colab_type": "text"
      },
      "source": [
        "2.4.1 相互情報量"
      ]
    },
    {
      "cell_type": "code",
      "metadata": {
        "id": "u9mVfpDT17uq",
        "colab_type": "code",
        "colab": {}
      },
      "source": [
        "def ppmi(C, verbose=False, eps=1e-8):\n",
        "    M = np.zeros_like(C, dtype=np.float32)\n",
        "    N = np.sum(C)\n",
        "    S = np.sum(C, axis=0)\n",
        "    total = C.shape[0] * C.shape[1]\n",
        "    cnt = 0\n",
        "\n",
        "    for i in range (C.shape[0]):\n",
        "        for j in range(C.shape[1]):\n",
        "            pmi = np.log2(C[i, j] * N / (S[j]*S[i]) + eps)\n",
        "            M[i, j] = max(0, pmi)\n",
        "\n",
        "            if verbose:\n",
        "              cnt += 1\n",
        "              if cnt % (total//100) == 0:\n",
        "                  print('%.1f%% done' % (100*cnt/total))\n",
        "\n",
        "    return M                  "
      ],
      "execution_count": 0,
      "outputs": []
    },
    {
      "cell_type": "code",
      "metadata": {
        "id": "6E6VWP1l5H55",
        "colab_type": "code",
        "outputId": "a01429c2-1e91-4896-95cf-bbc644f9cb10",
        "colab": {
          "base_uri": "https://localhost:8080/",
          "height": 323
        }
      },
      "source": [
        "import sys\n",
        "sys.path.append('/content/drive/My Drive/deep-learning-from-scratch-2-master/ch02')\n",
        "import numpy as np\n",
        "from common.util import preprocess, create_co_matrix, cos_similarity, ppmi\n",
        "\n",
        "text = 'You say goodbye and I say hello.'\n",
        "corpus, word_to_id, id_to_word = preprocess(text)\n",
        "vocab_size = len(word_to_id)\n",
        "C = create_co_matrix(corpus, vocab_size)\n",
        "W = ppmi(C)\n",
        "\n",
        "np.set_printoptions(precision=3)\n",
        "print('covariance matrix')\n",
        "print(C)\n",
        "print('-'*50)\n",
        "print('PPMI')\n",
        "print(W)"
      ],
      "execution_count": 0,
      "outputs": [
        {
          "output_type": "stream",
          "text": [
            "covariance matrix\n",
            "[[0 1 0 0 0 0 0]\n",
            " [1 0 1 0 1 1 0]\n",
            " [0 1 0 1 0 0 0]\n",
            " [0 0 1 0 1 0 0]\n",
            " [0 1 0 1 0 0 0]\n",
            " [0 1 0 0 0 0 1]\n",
            " [0 0 0 0 0 1 0]]\n",
            "--------------------------------------------------\n",
            "PPMI\n",
            "[[0.    1.807 0.    0.    0.    0.    0.   ]\n",
            " [1.807 0.    0.807 0.    0.807 0.807 0.   ]\n",
            " [0.    0.807 0.    1.807 0.    0.    0.   ]\n",
            " [0.    0.    1.807 0.    1.807 0.    0.   ]\n",
            " [0.    0.807 0.    1.807 0.    0.    0.   ]\n",
            " [0.    0.807 0.    0.    0.    0.    2.807]\n",
            " [0.    0.    0.    0.    0.    2.807 0.   ]]\n"
          ],
          "name": "stdout"
        }
      ]
    },
    {
      "cell_type": "markdown",
      "metadata": {
        "id": "mttUInIU70oP",
        "colab_type": "text"
      },
      "source": [
        "2.4.2 次元削減\n",
        "*　重要な情報を残してベクトルの次元を削減する。\n",
        "* 特異値分解を使った次元削減を行う。"
      ]
    },
    {
      "cell_type": "markdown",
      "metadata": {
        "id": "GWbockA7DwzJ",
        "colab_type": "text"
      },
      "source": [
        "2.4.3 SVDによる次元削減"
      ]
    },
    {
      "cell_type": "code",
      "metadata": {
        "id": "mKSKzA7SD2s4",
        "colab_type": "code",
        "outputId": "b06a2c7f-02ef-4251-d4ae-c2aba4e97e3f",
        "colab": {
          "base_uri": "https://localhost:8080/",
          "height": 35
        }
      },
      "source": [
        "import sys\n",
        "sys.path.append('/content/drive/My Drive/deep-learning-from-scratch-2-master/ch02')\n",
        "import numpy as np\n",
        "import matplotlib.pyplot as plt\n",
        "from common.util import preprocess, create_co_matrix, ppmi\n",
        "\n",
        "text = 'You say goodbye and I say hello.'\n",
        "corpus, word_to_id, id_to_word = preprocess(text)\n",
        "vocab_size = len(id_to_word)\n",
        "C = create_co_matrix(corpus, vocab_size, window_size=1)\n",
        "W = ppmi(C)\n",
        "\n",
        "# SVD\n",
        "U, S, V = np.linalg.svd(W)\n",
        "\n",
        "print(C[0])"
      ],
      "execution_count": 0,
      "outputs": [
        {
          "output_type": "stream",
          "text": [
            "[0 1 0 0 0 0 0]\n"
          ],
          "name": "stdout"
        }
      ]
    },
    {
      "cell_type": "code",
      "metadata": {
        "id": "dIDfWsqXFTR2",
        "colab_type": "code",
        "outputId": "02b55a3d-0914-4ded-c9db-797428cd1777",
        "colab": {
          "base_uri": "https://localhost:8080/",
          "height": 35
        }
      },
      "source": [
        "print(W[0])"
      ],
      "execution_count": 0,
      "outputs": [
        {
          "output_type": "stream",
          "text": [
            "[0.    1.807 0.    0.    0.    0.    0.   ]\n"
          ],
          "name": "stdout"
        }
      ]
    },
    {
      "cell_type": "code",
      "metadata": {
        "id": "goXy-_w4FhlO",
        "colab_type": "code",
        "outputId": "a52ed9ee-06fd-4366-c634-f57f8f9f9642",
        "colab": {
          "base_uri": "https://localhost:8080/",
          "height": 53
        }
      },
      "source": [
        "print(U[0])"
      ],
      "execution_count": 0,
      "outputs": [
        {
          "output_type": "stream",
          "text": [
            "[ 3.409e-01  0.000e+00 -1.205e-01 -3.886e-16 -9.323e-01 -1.110e-16\n",
            " -2.426e-17]\n"
          ],
          "name": "stdout"
        }
      ]
    },
    {
      "cell_type": "code",
      "metadata": {
        "id": "JXv_II6dFpVp",
        "colab_type": "code",
        "outputId": "914e4c6d-3f74-4b30-b7cc-c02633d2779a",
        "colab": {
          "base_uri": "https://localhost:8080/",
          "height": 35
        }
      },
      "source": [
        "print(U[0, :2])"
      ],
      "execution_count": 0,
      "outputs": [
        {
          "output_type": "stream",
          "text": [
            "[0.341 0.   ]\n"
          ],
          "name": "stdout"
        }
      ]
    },
    {
      "cell_type": "code",
      "metadata": {
        "id": "vc-4SwIRFzuZ",
        "colab_type": "code",
        "outputId": "6adb521d-c325-4402-e033-7b683b53a190",
        "colab": {
          "base_uri": "https://localhost:8080/",
          "height": 265
        }
      },
      "source": [
        "for word, word_to_id in word_to_id.items():\n",
        "    plt.annotate(word, (U[word_to_id, 0], U[word_to_id, 1]))\n",
        "\n",
        "plt.scatter(U[:,0], U[:,1], alpha=0.5)\n",
        "plt.show()    "
      ],
      "execution_count": 0,
      "outputs": [
        {
          "output_type": "display_data",
          "data": {
            "image/png": "[encoded data removed]",
            "text/plain": [
              "<Figure size 432x288 with 1 Axes>"
            ]
          },
          "metadata": {
            "tags": [],
            "needs_background": "light"
          }
        }
      ]
    },
    {
      "cell_type": "markdown",
      "metadata": {
        "id": "CbePEzsJMa34",
        "colab_type": "text"
      },
      "source": [
        "2.4.4 PTBデータセット"
      ]
    },
    {
      "cell_type": "code",
      "metadata": {
        "id": "L2CIG_mONKQP",
        "colab_type": "code",
        "outputId": "2dfbdecb-e5a8-4a0f-dabd-588ed317d35f",
        "colab": {
          "base_uri": "https://localhost:8080/",
          "height": 215
        }
      },
      "source": [
        "import sys\n",
        "sys.path.append('/content/drive/My Drive/deep-learning-from-scratch-2-master/ch02')\n",
        "from dataset import ptb\n",
        "\n",
        "corpus, word_to_id, id_to_word = ptb.load_data('train')\n",
        "\n",
        "print('corpus size:', len(corpus))\n",
        "print('corpus[:30]:', corpus[:30])\n",
        "print()\n",
        "print('id_to_word[0]:', id_to_word[0])\n",
        "print('id_to_word[1]:', id_to_word[1])\n",
        "print('id_to_word[2]:', id_to_word[2])\n",
        "print()\n",
        "print(\"word_to_id['car']:\", word_to_id['car'])\n",
        "print(\"word to_id['happy]:\", word_to_id['happy'])\n",
        "print(\"word_to_id['lexus']:\", word_to_id['lexus'])"
      ],
      "execution_count": 0,
      "outputs": [
        {
          "output_type": "stream",
          "text": [
            "corpus size: 929589\n",
            "corpus[:30]: [ 0  1  2  3  4  5  6  7  8  9 10 11 12 13 14 15 16 17 18 19 20 21 22 23\n",
            " 24 25 26 27 28 29]\n",
            "\n",
            "id_to_word[0]: aer\n",
            "id_to_word[1]: banknote\n",
            "id_to_word[2]: berlitz\n",
            "\n",
            "word_to_id['car']: 3856\n",
            "word to_id['happy]: 4428\n",
            "word_to_id['lexus']: 7426\n"
          ],
          "name": "stdout"
        }
      ]
    },
    {
      "cell_type": "markdown",
      "metadata": {
        "id": "hqy-bGGvPvvn",
        "colab_type": "text"
      },
      "source": [
        "2.4.5 PTBデータセットでの評価"
      ]
    },
    {
      "cell_type": "code",
      "metadata": {
        "id": "YAqSEPZzP2uO",
        "colab_type": "code",
        "outputId": "7e0a27c7-b9fa-48aa-8b66-adcc13f488f4",
        "colab": {
          "base_uri": "https://localhost:8080/",
          "height": 1000
        }
      },
      "source": [
        "import sys\n",
        "sys.path.append('/content/drive/My Drive/deep-learning-from-scratch-2-master/ch02')\n",
        "import numpy as np\n",
        "from common.util import most_similar, create_co_matrix, ppmi\n",
        "from dataset import ptb\n",
        "window_size = 2\n",
        "wordvec_size = 100\n",
        "\n",
        "corpus, word_to_id, id_to_word = ptb.load_data('train')\n",
        "vocab_size = len(word_to_id)\n",
        "print('counting co-occurrence...')\n",
        "C = create_co_matrix(corpus, vocab_size, window_size)\n",
        "print('calculating PPMI...')\n",
        "W = ppmi(C, verbose=True)\n",
        "\n",
        "print('calculating SVD...')\n",
        "try:\n",
        "    # truncated SVD (fast!)\n",
        "    from sklearn.utils.extmath import randomized_svd\n",
        "    U, S, V = randomized_svd(W, n_components=wordvec_size, n_iter=5,\n",
        "                             random_state=None)\n",
        "    \n",
        "except ImportError:\n",
        "    # SVD (slow)\n",
        "    U, S, V = np.linalg.svd(W)\n",
        "\n",
        "word_vecs = U[:, :wordvec_size]\n",
        "\n",
        "querys = ['you', 'year', 'car', 'toyota']\n",
        "for query in querys:\n",
        "    most_similar(query, word_to_id, id_to_word, word_vecs, top=5)"
      ],
      "execution_count": 0,
      "outputs": [
        {
          "output_type": "stream",
          "text": [
            "counting co-occurrence...\n",
            "calculating PPMI...\n",
            "1.0% done\n",
            "2.0% done\n",
            "3.0% done\n",
            "4.0% done\n",
            "5.0% done\n",
            "6.0% done\n",
            "7.0% done\n",
            "8.0% done\n",
            "9.0% done\n",
            "10.0% done\n",
            "11.0% done\n",
            "12.0% done\n",
            "13.0% done\n",
            "14.0% done\n",
            "15.0% done\n",
            "16.0% done\n",
            "17.0% done\n",
            "18.0% done\n",
            "19.0% done\n",
            "20.0% done\n",
            "21.0% done\n",
            "22.0% done\n",
            "23.0% done\n",
            "24.0% done\n",
            "25.0% done\n",
            "26.0% done\n",
            "27.0% done\n",
            "28.0% done\n",
            "29.0% done\n",
            "30.0% done\n",
            "31.0% done\n",
            "32.0% done\n",
            "33.0% done\n",
            "34.0% done\n",
            "35.0% done\n",
            "36.0% done\n",
            "37.0% done\n",
            "38.0% done\n",
            "39.0% done\n",
            "40.0% done\n",
            "41.0% done\n",
            "42.0% done\n",
            "43.0% done\n",
            "44.0% done\n",
            "45.0% done\n",
            "46.0% done\n",
            "47.0% done\n",
            "48.0% done\n",
            "49.0% done\n",
            "50.0% done\n",
            "51.0% done\n",
            "52.0% done\n",
            "53.0% done\n",
            "54.0% done\n",
            "55.0% done\n",
            "56.0% done\n",
            "57.0% done\n",
            "58.0% done\n",
            "59.0% done\n",
            "60.0% done\n",
            "61.0% done\n",
            "62.0% done\n",
            "63.0% done\n",
            "64.0% done\n",
            "65.0% done\n",
            "66.0% done\n",
            "67.0% done\n",
            "68.0% done\n",
            "69.0% done\n",
            "70.0% done\n",
            "71.0% done\n",
            "72.0% done\n",
            "73.0% done\n",
            "74.0% done\n",
            "75.0% done\n",
            "76.0% done\n",
            "77.0% done\n",
            "78.0% done\n",
            "79.0% done\n",
            "80.0% done\n",
            "81.0% done\n",
            "82.0% done\n",
            "83.0% done\n",
            "84.0% done\n",
            "85.0% done\n",
            "86.0% done\n",
            "87.0% done\n",
            "88.0% done\n",
            "89.0% done\n",
            "90.0% done\n",
            "91.0% done\n",
            "92.0% done\n",
            "93.0% done\n",
            "94.0% done\n",
            "95.0% done\n",
            "96.0% done\n",
            "97.0% done\n",
            "98.0% done\n",
            "99.0% done\n",
            "100.0% done\n",
            "calculating SVD...\n",
            "\n",
            "[query] you\n",
            " i: 0.6936771869659424\n",
            " we: 0.5542523860931396\n",
            " else: 0.550256609916687\n",
            " do: 0.5326219797134399\n",
            " anybody: 0.5311814546585083\n",
            "\n",
            "[query] year\n",
            " earlier: 0.6507008671760559\n",
            " quarter: 0.6327501535415649\n",
            " next: 0.6293497681617737\n",
            " last: 0.6130379438400269\n",
            " month: 0.6126649379730225\n",
            "\n",
            "[query] car\n",
            " auto: 0.5870417356491089\n",
            " luxury: 0.5355527997016907\n",
            " domestic: 0.47077062726020813\n",
            " vehicle: 0.46490949392318726\n",
            " truck: 0.4626355469226837\n",
            "\n",
            "[query] toyota\n",
            " motor: 0.7234324812889099\n",
            " motors: 0.6470083594322205\n",
            " nissan: 0.6413211226463318\n",
            " lexus: 0.6164315938949585\n",
            " honda: 0.5965336561203003\n"
          ],
          "name": "stdout"
        }
      ]
    },
    {
      "cell_type": "markdown",
      "metadata": {
        "id": "BNI9XMQJZsZb",
        "colab_type": "text"
      },
      "source": [
        "2.5 まとめ\n",
        "* 「単語の意味」をコンピュータに理解させる事をテーマに学びました。"
      ]
    }
  ]
}
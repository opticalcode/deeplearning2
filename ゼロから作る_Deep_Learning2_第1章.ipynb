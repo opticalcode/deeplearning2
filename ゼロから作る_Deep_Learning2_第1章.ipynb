{
  "nbformat": 4,
  "nbformat_minor": 0,
  "metadata": {
    "colab": {
      "name": "ゼロから作る Deep Learning2 第1章",
      "provenance": [],
      "collapsed_sections": [],
      "authorship_tag": "ABX9TyMBg5KkkDb6qfpX1jiGnuHb",
      "include_colab_link": true
    },
    "kernelspec": {
      "name": "python3",
      "display_name": "Python 3"
    },
    "accelerator": "GPU"
  },
  "cells": [
    {
      "cell_type": "markdown",
      "metadata": {
        "id": "view-in-github",
        "colab_type": "text"
      },
      "source": [
        "<a href=\"https://colab.research.google.com/github/opticalcode/deeplearning2/blob/master/%E3%82%BC%E3%83%AD%E3%81%8B%E3%82%89%E4%BD%9C%E3%82%8B_Deep_Learning2_%E7%AC%AC1%E7%AB%A0.ipynb\" target=\"_parent\"><img src=\"https://colab.research.google.com/assets/colab-badge.svg\" alt=\"Open In Colab\"/></a>"
      ]
    },
    {
      "cell_type": "code",
      "metadata": {
        "id": "KoHM1LyhUz9d",
        "colab_type": "code",
        "colab": {
          "base_uri": "https://localhost:8080/",
          "height": 55
        },
        "outputId": "fc36aba3-568a-4623-ea9f-7ecf1f77b1d5"
      },
      "source": [
        "# Google driveをマウントする\n",
        "from google.colab import drive\n",
        "drive.mount('/content/drive')"
      ],
      "execution_count": 1,
      "outputs": [
        {
          "output_type": "stream",
          "text": [
            "Drive already mounted at /content/drive; to attempt to forcibly remount, call drive.mount(\"/content/drive\", force_remount=True).\n"
          ],
          "name": "stdout"
        }
      ]
    },
    {
      "cell_type": "markdown",
      "metadata": {
        "id": "179dJADpVgFI",
        "colab_type": "text"
      },
      "source": [
        "1章 ニューラルネットワークの復習"
      ]
    },
    {
      "cell_type": "markdown",
      "metadata": {
        "id": "GptP2bJcYkZP",
        "colab_type": "text"
      },
      "source": [
        "1.1 数学とPythonの復習\n",
        "* ベクトルや行列を拡張させて、N次元の数集まりをテンソルという"
      ]
    },
    {
      "cell_type": "code",
      "metadata": {
        "id": "TiytAAY_Y_Ar",
        "colab_type": "code",
        "colab": {
          "base_uri": "https://localhost:8080/",
          "height": 35
        },
        "outputId": "5503191a-e390-450c-cf68-37ce58755837"
      },
      "source": [
        "import numpy as np\n",
        "x = np.array([1,2,3])\n",
        "x.__class__"
      ],
      "execution_count": 2,
      "outputs": [
        {
          "output_type": "execute_result",
          "data": {
            "text/plain": [
              "numpy.ndarray"
            ]
          },
          "metadata": {
            "tags": []
          },
          "execution_count": 2
        }
      ]
    },
    {
      "cell_type": "code",
      "metadata": {
        "id": "R2P_WTnJZeae",
        "colab_type": "code",
        "colab": {
          "base_uri": "https://localhost:8080/",
          "height": 35
        },
        "outputId": "46d6fee0-3d3b-495e-ecf9-7e5c326dd1fc"
      },
      "source": [
        "x.shape"
      ],
      "execution_count": 3,
      "outputs": [
        {
          "output_type": "execute_result",
          "data": {
            "text/plain": [
              "(3,)"
            ]
          },
          "metadata": {
            "tags": []
          },
          "execution_count": 3
        }
      ]
    },
    {
      "cell_type": "code",
      "metadata": {
        "id": "80-QunriZiLL",
        "colab_type": "code",
        "colab": {
          "base_uri": "https://localhost:8080/",
          "height": 35
        },
        "outputId": "22cbea9b-e6b4-4070-d5ef-736919adbb7f"
      },
      "source": [
        "x.ndim"
      ],
      "execution_count": 4,
      "outputs": [
        {
          "output_type": "execute_result",
          "data": {
            "text/plain": [
              "1"
            ]
          },
          "metadata": {
            "tags": []
          },
          "execution_count": 4
        }
      ]
    },
    {
      "cell_type": "code",
      "metadata": {
        "id": "R-fQ15QbZmYf",
        "colab_type": "code",
        "colab": {
          "base_uri": "https://localhost:8080/",
          "height": 35
        },
        "outputId": "210832c5-158a-4df6-a6c6-27da618ff877"
      },
      "source": [
        "W = np.array([[1,2,3],[4,4,6]])\n",
        "W.shape"
      ],
      "execution_count": 5,
      "outputs": [
        {
          "output_type": "execute_result",
          "data": {
            "text/plain": [
              "(2, 3)"
            ]
          },
          "metadata": {
            "tags": []
          },
          "execution_count": 5
        }
      ]
    },
    {
      "cell_type": "code",
      "metadata": {
        "id": "6nvaUMgzZ64F",
        "colab_type": "code",
        "colab": {
          "base_uri": "https://localhost:8080/",
          "height": 35
        },
        "outputId": "73a7ac67-2c2b-4672-a59d-0cdb86973429"
      },
      "source": [
        "W.ndim"
      ],
      "execution_count": 6,
      "outputs": [
        {
          "output_type": "execute_result",
          "data": {
            "text/plain": [
              "2"
            ]
          },
          "metadata": {
            "tags": []
          },
          "execution_count": 6
        }
      ]
    },
    {
      "cell_type": "markdown",
      "metadata": {
        "id": "v4t-c_W9aDCD",
        "colab_type": "text"
      },
      "source": [
        "1.1.2 行列の要素ごとの演算"
      ]
    },
    {
      "cell_type": "code",
      "metadata": {
        "id": "z0Ja0FIeaLWE",
        "colab_type": "code",
        "colab": {
          "base_uri": "https://localhost:8080/",
          "height": 53
        },
        "outputId": "dc268047-4bfa-432c-f765-0eb4c1f702e2"
      },
      "source": [
        "W = np.array([[1,2,3],[4,5,6]])\n",
        "X = np.array([[0,1,2],[3,4,5]])\n",
        "W + X"
      ],
      "execution_count": 7,
      "outputs": [
        {
          "output_type": "execute_result",
          "data": {
            "text/plain": [
              "array([[ 1,  3,  5],\n",
              "       [ 7,  9, 11]])"
            ]
          },
          "metadata": {
            "tags": []
          },
          "execution_count": 7
        }
      ]
    },
    {
      "cell_type": "code",
      "metadata": {
        "id": "OOXzHWlOalfx",
        "colab_type": "code",
        "colab": {
          "base_uri": "https://localhost:8080/",
          "height": 53
        },
        "outputId": "1f7ea606-1c6d-4f44-8248-478ad57fb4ea"
      },
      "source": [
        "W * X"
      ],
      "execution_count": 8,
      "outputs": [
        {
          "output_type": "execute_result",
          "data": {
            "text/plain": [
              "array([[ 0,  2,  6],\n",
              "       [12, 20, 30]])"
            ]
          },
          "metadata": {
            "tags": []
          },
          "execution_count": 8
        }
      ]
    },
    {
      "cell_type": "markdown",
      "metadata": {
        "id": "hxyF-4qYarbI",
        "colab_type": "text"
      },
      "source": [
        "1.1.3 ブロードキャスト"
      ]
    },
    {
      "cell_type": "code",
      "metadata": {
        "id": "rDVMi7QAawVd",
        "colab_type": "code",
        "colab": {
          "base_uri": "https://localhost:8080/",
          "height": 53
        },
        "outputId": "a07750ac-26d0-428b-9feb-6a0f71a89867"
      },
      "source": [
        "A = np.array([[1,2],[3,4]])\n",
        "A * 10"
      ],
      "execution_count": 9,
      "outputs": [
        {
          "output_type": "execute_result",
          "data": {
            "text/plain": [
              "array([[10, 20],\n",
              "       [30, 40]])"
            ]
          },
          "metadata": {
            "tags": []
          },
          "execution_count": 9
        }
      ]
    },
    {
      "cell_type": "code",
      "metadata": {
        "id": "Sfm0h4UNa8fb",
        "colab_type": "code",
        "colab": {
          "base_uri": "https://localhost:8080/",
          "height": 53
        },
        "outputId": "088b3c63-c875-4a25-cbb8-d70a6568efd9"
      },
      "source": [
        "A = np.array([[1,2],[3,4]])\n",
        "b = np.array([10,20])\n",
        "A * b"
      ],
      "execution_count": 10,
      "outputs": [
        {
          "output_type": "execute_result",
          "data": {
            "text/plain": [
              "array([[10, 40],\n",
              "       [30, 80]])"
            ]
          },
          "metadata": {
            "tags": []
          },
          "execution_count": 10
        }
      ]
    },
    {
      "cell_type": "code",
      "metadata": {
        "id": "p9QhfXrKbSjy",
        "colab_type": "code",
        "colab": {
          "base_uri": "https://localhost:8080/",
          "height": 35
        },
        "outputId": "40e85aa5-50bc-46f5-fbd2-1b84e496b8f5"
      },
      "source": [
        "a = np.array([1,2,3])\n",
        "b = np.array([4,5,6])\n",
        "np.dot(a,b)"
      ],
      "execution_count": 11,
      "outputs": [
        {
          "output_type": "execute_result",
          "data": {
            "text/plain": [
              "32"
            ]
          },
          "metadata": {
            "tags": []
          },
          "execution_count": 11
        }
      ]
    },
    {
      "cell_type": "code",
      "metadata": {
        "id": "NGoOxXT_bk8o",
        "colab_type": "code",
        "colab": {
          "base_uri": "https://localhost:8080/",
          "height": 53
        },
        "outputId": "35b5324f-ad75-4a2e-f2c3-e658c9371b54"
      },
      "source": [
        "A = np.array([[1,2],[3,4]])\n",
        "B = np.array([[5,6],[7,8]])\n",
        "np.dot(A,B)"
      ],
      "execution_count": 12,
      "outputs": [
        {
          "output_type": "execute_result",
          "data": {
            "text/plain": [
              "array([[19, 22],\n",
              "       [43, 50]])"
            ]
          },
          "metadata": {
            "tags": []
          },
          "execution_count": 12
        }
      ]
    },
    {
      "cell_type": "markdown",
      "metadata": {
        "id": "HbHyyELzb4Kt",
        "colab_type": "text"
      },
      "source": [
        "1.2.5 行列の形状チェック\n",
        "* 行列の積では、対応する次元の要素数を一致させる。"
      ]
    },
    {
      "cell_type": "markdown",
      "metadata": {
        "id": "_TYUb_KacZix",
        "colab_type": "text"
      },
      "source": [
        "1.2 ニューラルネットワークの推論\n",
        "* ニューラルネットワークの処理は「学習」と「推論」に分かれる。"
      ]
    },
    {
      "cell_type": "markdown",
      "metadata": {
        "id": "6lI0QifmdQmI",
        "colab_type": "text"
      },
      "source": [
        "1.2.1 ニューラルネットワークの推論の全体図"
      ]
    },
    {
      "cell_type": "code",
      "metadata": {
        "id": "EaqV505KdcoM",
        "colab_type": "code",
        "colab": {}
      },
      "source": [
        "import numpy as np\n",
        "W1 = np.random.randn(2, 4)\n",
        "b1 = np.random.randn(4)\n",
        "x = np.random.randn(10, 2)\n",
        "h = np.dot(x, W1) + b1"
      ],
      "execution_count": 0,
      "outputs": []
    },
    {
      "cell_type": "code",
      "metadata": {
        "id": "O9CqtzWleWQ0",
        "colab_type": "code",
        "colab": {}
      },
      "source": [
        "def sigmoid(x):\n",
        "    return 1 / (1 + np.exp(-x))\n",
        "a = sigmoid(h)    "
      ],
      "execution_count": 0,
      "outputs": []
    },
    {
      "cell_type": "code",
      "metadata": {
        "id": "FTCbkhTee0G8",
        "colab_type": "code",
        "colab": {}
      },
      "source": [
        "import numpy as np\n",
        "def sigmoid(x):\n",
        "    return 1 / (1 + np.exp(-x))\n",
        "\n",
        "x = np.random.randn(10, 2)\n",
        "W1 = np.random.randn(2, 4)\n",
        "b1 = np.random.randn(4)\n",
        "W2 = np.random.randn(4, 3)\n",
        "b2 = np.random.randn(3)\n",
        "\n",
        "h = np.dot(x, W1) + b1\n",
        "a = sigmoid(h)\n",
        "s = np.dot(a, W2) + b2"
      ],
      "execution_count": 0,
      "outputs": []
    },
    {
      "cell_type": "markdown",
      "metadata": {
        "id": "248BfiApbfcU",
        "colab_type": "text"
      },
      "source": [
        "1.2.2 レイヤとしてのクラス化と順伝播の実装"
      ]
    },
    {
      "cell_type": "code",
      "metadata": {
        "id": "l90NEcX5cBP9",
        "colab_type": "code",
        "colab": {}
      },
      "source": [
        "import numpy as np\n",
        "\n",
        "class Sigmoid:\n",
        "    def __init__(self):\n",
        "        self.params = []\n",
        "\n",
        "    def forward(self, x):\n",
        "        return 1 / (1 + np.exp(-x))   "
      ],
      "execution_count": 0,
      "outputs": []
    },
    {
      "cell_type": "code",
      "metadata": {
        "id": "KBaJkXWYcrPh",
        "colab_type": "code",
        "colab": {}
      },
      "source": [
        "class Affine:\n",
        "    def __init__(self, W, b):\n",
        "        self.params = [W, b]\n",
        "\n",
        "    def forward(self, x):\n",
        "        W, b = self.params\n",
        "\n",
        "        out = np.dot(x, W) + b\n",
        "        return out        "
      ],
      "execution_count": 0,
      "outputs": []
    },
    {
      "cell_type": "code",
      "metadata": {
        "id": "ysbD4Y49d3CL",
        "colab_type": "code",
        "colab": {}
      },
      "source": [
        "class TwoLayerNet:\n",
        "    def __init__(self, input_size, hidden_size, output_size):\n",
        "        I, H, O = input_size, hidden_size, output_size\n",
        "\n",
        "        #　重みとバイアスの初期化\n",
        "        W1 = np.random.randn(I, H)\n",
        "        b1 = np.random.randn(H)\n",
        "        W2 = np.random.randn(H, O)\n",
        "        b2 = np.random.randn(O)\n",
        "\n",
        "        #　レイヤの生成\n",
        "        self.layers = [\n",
        "            Affine(W1, b1),\n",
        "            Sigmoid(),\n",
        "            Affine(W2, b2)          \n",
        "        ]\n",
        "\n",
        "        # 全ての重みをリストにまとめる\n",
        "        self.params = []\n",
        "        for layer in self.layers:\n",
        "            self.params += layer.params\n",
        "\n",
        "    def predict(self, x):\n",
        "       for layer in self.layers:        \n",
        "           x = layer.forward(x)\n",
        "       return x    "
      ],
      "execution_count": 0,
      "outputs": []
    },
    {
      "cell_type": "code",
      "metadata": {
        "id": "kCcU5A6DgNtn",
        "colab_type": "code",
        "colab": {
          "base_uri": "https://localhost:8080/",
          "height": 35
        },
        "outputId": "6e59aadc-84bb-4d50-80a5-427836a1d198"
      },
      "source": [
        "a = ['A','B']\n",
        "a += ['C','D']\n",
        "a"
      ],
      "execution_count": 19,
      "outputs": [
        {
          "output_type": "execute_result",
          "data": {
            "text/plain": [
              "['A', 'B', 'C', 'D']"
            ]
          },
          "metadata": {
            "tags": []
          },
          "execution_count": 19
        }
      ]
    },
    {
      "cell_type": "code",
      "metadata": {
        "id": "k7AZK5Pegghc",
        "colab_type": "code",
        "colab": {}
      },
      "source": [
        "x = np.random.randn(10, 2)\n",
        "model = TwoLayerNet(2, 4, 3)\n",
        "s = model.predict(x)"
      ],
      "execution_count": 0,
      "outputs": []
    },
    {
      "cell_type": "markdown",
      "metadata": {
        "id": "eE8PsmgfhawQ",
        "colab_type": "text"
      },
      "source": [
        "1.3 ニューラルネットワークの学習\n",
        "* 学習されたパラメータを利用して推論を行う"
      ]
    },
    {
      "cell_type": "markdown",
      "metadata": {
        "id": "iFbjopd7h9_i",
        "colab_type": "text"
      },
      "source": [
        "1.3.1 損失関数\n",
        "* 損失関数として交差エントロピー誤差を用いる"
      ]
    },
    {
      "cell_type": "markdown",
      "metadata": {
        "id": "PBgWghhjidig",
        "colab_type": "text"
      },
      "source": [
        "1.3.2 微分と勾配\n",
        "* ニューラルネットワークの学習の目標は、損失をできるだけ小さくすること。このとき重要になのが「微分」であり、「勾配」。"
      ]
    },
    {
      "cell_type": "markdown",
      "metadata": {
        "id": "HcEhgJJllrEK",
        "colab_type": "text"
      },
      "source": [
        "1.3.3 チェインルール\n",
        "* 誤差伝播法を理解する上で、キーとなるのがチェインルール（連鎖率）。"
      ]
    },
    {
      "cell_type": "markdown",
      "metadata": {
        "id": "2enxtV-jmJxF",
        "colab_type": "text"
      },
      "source": [
        "1.3.4 計算グラフ\n",
        "* 計算グラフは、計算を視覚的に表すもの。"
      ]
    },
    {
      "cell_type": "markdown",
      "metadata": {
        "id": "ldA5u2qem_4Y",
        "colab_type": "text"
      },
      "source": [
        "1.3.4.1 乗算ノード\n",
        "* 乗算ノードは、z=x * y という計算"
      ]
    },
    {
      "cell_type": "markdown",
      "metadata": {
        "id": "eZ1ptuQKnW_s",
        "colab_type": "text"
      },
      "source": [
        "1.3.4.2 分岐ノード\n",
        "* 分岐ノードは、分岐するノードです。"
      ]
    },
    {
      "cell_type": "markdown",
      "metadata": {
        "id": "WSX1LZzDnsmY",
        "colab_type": "text"
      },
      "source": [
        "１.3.4.3 Repeatノード\n",
        "* 分岐ノードは2つの分岐だが、これを一般化させるとN個の分岐が考えらる。これをRepeatノードという。"
      ]
    },
    {
      "cell_type": "code",
      "metadata": {
        "id": "9yxd38EYoMI7",
        "colab_type": "code",
        "colab": {}
      },
      "source": [
        "import numpy as np\n",
        "D, N = 8, 7\n",
        "x = np.random.randn(1, D)\n",
        "y = np.repeat(x, N, axis=0)\n",
        "\n",
        "dy = np.random.randn(N, D)\n",
        "dx = np.sum(dy, axis=0, keepdims=True)"
      ],
      "execution_count": 0,
      "outputs": []
    },
    {
      "cell_type": "markdown",
      "metadata": {
        "id": "0xfLXj9Ypdi4",
        "colab_type": "text"
      },
      "source": [
        "1.3.4.4 Sumノード\n",
        "* Sumノードは汎用的な加算ノードです。"
      ]
    },
    {
      "cell_type": "code",
      "metadata": {
        "id": "ykInGVwDpulC",
        "colab_type": "code",
        "colab": {}
      },
      "source": [
        "import numpy as np\n",
        "D, N = 8, 7\n",
        "x = np.random.randn(N, D)\n",
        "y = np.sum(x, axis=0, keepdims=True)\n",
        "\n",
        "dy = np.random.randn(1, D)\n",
        "dx = np.repeat(dy, N, axis=0)"
      ],
      "execution_count": 0,
      "outputs": []
    },
    {
      "cell_type": "markdown",
      "metadata": {
        "id": "pMXeHOfuqW7D",
        "colab_type": "text"
      },
      "source": [
        "1.3.4.5 MatMulノード\n",
        "* 本書では、行列の積をMatMulノードとします。"
      ]
    },
    {
      "cell_type": "code",
      "metadata": {
        "id": "2A4rMhY1quYf",
        "colab_type": "code",
        "colab": {}
      },
      "source": [
        "class Matmul:\n",
        "    def __init__(self, W):\n",
        "        self.params = [W]\n",
        "        self.grads = [np.zeros_like(W)]\n",
        "        self.x = None\n",
        "\n",
        "    def forward(self, x):\n",
        "        W, = self.params\n",
        "        out = np.dot(x, W)\n",
        "        self.x = x\n",
        "        return out\n",
        "\n",
        "    def backward(self, dout):\n",
        "        W, = self.params\n",
        "        dx = np.dot(dout, W.t)\n",
        "        dW = np.dot(self.x.T, dout)\n",
        "        self.grads[0][...]= dW\n",
        "        return dx        "
      ],
      "execution_count": 0,
      "outputs": []
    },
    {
      "cell_type": "code",
      "metadata": {
        "id": "LbjaHX5-sF1f",
        "colab_type": "code",
        "colab": {}
      },
      "source": [
        "a = np.array([1, 2, 3])\n",
        "b = np.array([4, 5, 6])"
      ],
      "execution_count": 0,
      "outputs": []
    },
    {
      "cell_type": "markdown",
      "metadata": {
        "id": "HaCHIfYdsYP0",
        "colab_type": "text"
      },
      "source": [
        "1.3.5 勾配の導出と逆伝播の実装"
      ]
    },
    {
      "cell_type": "markdown",
      "metadata": {
        "id": "h7P7giHTshEN",
        "colab_type": "text"
      },
      "source": [
        "1.3.5.1 Sigmoidレイヤ"
      ]
    },
    {
      "cell_type": "code",
      "metadata": {
        "id": "8xpnel5zspJU",
        "colab_type": "code",
        "colab": {}
      },
      "source": [
        "class Sigmoid:\n",
        "    def __init__(self):\n",
        "        self.params, set.grads =[], []\n",
        "        self.out = None\n",
        "\n",
        "    def forward(self, x):\n",
        "        out = 1 / (1 + np.exp(-x))\n",
        "        self.out = out\n",
        "        return out\n",
        "\n",
        "    def backward(self, dout):\n",
        "        dx = dout * (1.0 - self.out)\n",
        "        return dx        "
      ],
      "execution_count": 0,
      "outputs": []
    },
    {
      "cell_type": "markdown",
      "metadata": {
        "id": "pmHmydkOtfJs",
        "colab_type": "text"
      },
      "source": [
        "1.3.5.2 Affineレイヤ"
      ]
    },
    {
      "cell_type": "code",
      "metadata": {
        "id": "OX_clz-otlqw",
        "colab_type": "code",
        "colab": {}
      },
      "source": [
        "class Affine:\n",
        "    def __init__(self, W, b):\n",
        "        self.params = [W, b]\n",
        "        self.grads = [np.zeros_like(W), np.zeros_like(b)]\n",
        "        self.x = None\n",
        "\n",
        "    def forward(self, x):\n",
        "        W, b = self.params\n",
        "        out =np.dot(x, W) + b\n",
        "        self.x = x\n",
        "        return out\n",
        "\n",
        "    def backward(self, dout):\n",
        "        W, b = self.params\n",
        "        dx = np.dot(dout, W.T)\n",
        "        dW = np.dot(self.x.T, dout)\n",
        "        db = np.sum(dout, axis=0) \n",
        "\n",
        "        self.grads[0][...] = dW\n",
        "        self.grads[1][...] = db\n",
        "        return dx"
      ],
      "execution_count": 0,
      "outputs": []
    },
    {
      "cell_type": "markdown",
      "metadata": {
        "id": "21zsWSyKvTBl",
        "colab_type": "text"
      },
      "source": [
        "1.3.5.3 Softmax with Lossレイヤ\n",
        "* softmax関数と交差エントロピー誤差を合わせてそftmax with Lossレイヤとして実装します。"
      ]
    },
    {
      "cell_type": "markdown",
      "metadata": {
        "id": "emNKrRJIwNUg",
        "colab_type": "text"
      },
      "source": [
        "1.3.6 重みの更新\n",
        "* 誤差逆伝播法によって勾配を求めることができたら、その勾配を使ってニューラルネットワークの学習を行います。\n",
        "* パラメーターの更新に勾配降下法を使用します。\n",
        "* ここではSGD（確率的勾配降下法）を使用します。"
      ]
    },
    {
      "cell_type": "code",
      "metadata": {
        "id": "1FDqkLDExHqZ",
        "colab_type": "code",
        "colab": {}
      },
      "source": [
        "class SGD:\n",
        "    def __init__(self, lr=0.01):\n",
        "        self.lr = %ldir\n",
        "    def update(self, params, grads):\n",
        "        for i in range(len(params)):\n",
        "            params[i] -= self.lr * grads[i]    "
      ],
      "execution_count": 0,
      "outputs": []
    },
    {
      "cell_type": "markdown",
      "metadata": {
        "id": "qDrv5HZsyIoy",
        "colab_type": "text"
      },
      "source": [
        "1.4 ニューラルネットワークで問題を解く\n"
      ]
    },
    {
      "cell_type": "code",
      "metadata": {
        "id": "EOOFLpIGV_Ue",
        "colab_type": "code",
        "colab": {}
      },
      "source": [
        "import sys\n",
        "sys.path.append('/content/drive/My Drive/deep-learning-from-scratch-2-master')\n",
        "from dataset import spiral"
      ],
      "execution_count": 0,
      "outputs": []
    },
    {
      "cell_type": "code",
      "metadata": {
        "id": "v3OcdngwXDFN",
        "colab_type": "code",
        "outputId": "37e3e28d-6a7a-4c8c-eab4-fca1816a0fff",
        "colab": {
          "base_uri": "https://localhost:8080/",
          "height": 53
        }
      },
      "source": [
        "import matplotlib.pyplot as plt\n",
        "\n",
        "x, t = spiral.load_data()\n",
        "print('x', x.shape)\n",
        "print('t', t.shape)"
      ],
      "execution_count": 29,
      "outputs": [
        {
          "output_type": "stream",
          "text": [
            "x (300, 2)\n",
            "t (300, 3)\n"
          ],
          "name": "stdout"
        }
      ]
    },
    {
      "cell_type": "markdown",
      "metadata": {
        "id": "aAdU4s3WZjZi",
        "colab_type": "text"
      },
      "source": [
        "1.4.2 ニューラルネットワークの実装"
      ]
    },
    {
      "cell_type": "code",
      "metadata": {
        "id": "390fpxXRapOC",
        "colab_type": "code",
        "colab": {}
      },
      "source": [
        "import sys\n",
        "sys.path.append('/content/drive/My Drive/deep-learning-from-scratch-2-master/ch01')\n",
        "import numpy as np\n",
        "from common.layers import Affine, Sigmoid, SoftmaxWithLoss"
      ],
      "execution_count": 0,
      "outputs": []
    },
    {
      "cell_type": "code",
      "metadata": {
        "id": "_XSF6yW9b7Iu",
        "colab_type": "code",
        "colab": {}
      },
      "source": [
        "class TwoLayerNet:\n",
        "    def __init__(self, input_size, hidden_size, output_size):\n",
        "        I, H, O = input_size, hidden_size, output_size\n",
        "\n",
        "        #重みとバイアス初期化\n",
        "        W1 = 0.01 * np.random.randn(I, H)\n",
        "        b1 = np.zeros(H)\n",
        "        W2 = 0.01 * np.random.randn(H, O)\n",
        "        b2 = np.zeros(O)\n",
        "\n",
        "        #レイヤの生成\n",
        "        self.layers = [\n",
        "            Affine(W1, b1),\n",
        "            Sigmoid(),\n",
        "            Affine(W2, b2)           \n",
        "        ]\n",
        "        self.loss_layer = SoftmaxWithLoss()\n",
        "\n",
        "        #すべての重みと勾配をリストにまとめる\n",
        "        self.params, self.grads = [], []\n",
        "        for layer in self.layers:\n",
        "            self.params += layer.params\n",
        "            self.grads += layer.grads\n",
        "\n",
        "    def predict(self, x):\n",
        "        for layer in self.layers:\n",
        "            x = layer.forward(x)\n",
        "        return x\n",
        "\n",
        "    def forward(self, x, t):\n",
        "        score = self.predict(x)\n",
        "        loss = self.predict(x)\n",
        "        loss = self.loss_layer.forward(score, t)\n",
        "        return x\n",
        "\n",
        "    def backward(self, dout=1):\n",
        "        dout = self.loss_layer.backward(dout)\n",
        "        for layer in reversed(self.layers):\n",
        "            dout = layer.backward(dout)\n",
        "        return dout                         "
      ],
      "execution_count": 0,
      "outputs": []
    },
    {
      "cell_type": "code",
      "metadata": {
        "id": "_NZ99W8UgtpW",
        "colab_type": "code",
        "colab": {
          "base_uri": "https://localhost:8080/",
          "height": 1000
        },
        "outputId": "bcaf5881-c14a-4cac-d2e7-60b795d0a908"
      },
      "source": [
        "#学習用のソースコード\n",
        "import sys\n",
        "sys.path.append('/content/drive/My Drive/deep-learning-from-scratch-2-master/ch01')\n",
        "import numpy as np\n",
        "from common.optimizer import SGD\n",
        "from dataset import spiral\n",
        "import matplotlib.pyplot as plt\n",
        "from two_layer_net import TwoLayerNet\n",
        "\n",
        "#❶ハイパーパラメータの設定\n",
        "max_epoch = 300\n",
        "batch_size = 30\n",
        "hidden_size = 10\n",
        "learning_rate =1.0\n",
        "\n",
        "#❷データの読み込み、モデルとオプティマイザの生成\n",
        "x, t = spiral.load_data()\n",
        "model = TwoLayerNet(input_size=2, hidden_size=hidden_size, output_size=3)\n",
        "optimizer = SGD(lr=learning_rate)\n",
        "\n",
        "# 学習で使用する変数\n",
        "data_size = len(x)\n",
        "max_iters = data_size // batch_size\n",
        "total_loss = 0\n",
        "loss_count = 0\n",
        "loss_list = []\n",
        "\n",
        "for epoch in range(max_epoch):\n",
        "    #❸データのシャッフル\n",
        "    idx = np.random.permutation(data_size)\n",
        "    x = x[idx]\n",
        "    t = t[idx]\n",
        "\n",
        "    for iters in range(max_iters):\n",
        "        batch_x = x[iters*batch_size:(iters+1)*batch_size]\n",
        "        batch_t = t[iters*batch_size:(iters+1)*batch_size]\n",
        "\n",
        "    #❹勾配を求め、パラメータを更新\n",
        "    loss = model.forward(batch_x, batch_t)\n",
        "    model.backward()\n",
        "    optimizer.update(model.params, model.grads)\n",
        "\n",
        "    total_loss += loss\n",
        "    loss_count += 1\n",
        "\n",
        "    #❺定期的に学習経過を出力\n",
        "    if (iters+1) % 10 == 0:\n",
        "        avg_loss = total_loss / loss_count\n",
        "        print('\\ epoch %d \\ iter %d / %d \\ loss %.2f'\n",
        "              % (epoch + 1, iters + 1, max_iters, avg_loss))\n",
        "        loss_list.append(avg_loss)\n",
        "        total_loss, loss_count = 0, 0"
      ],
      "execution_count": 47,
      "outputs": [
        {
          "output_type": "stream",
          "text": [
            "\\ epoch 1 \\ iter 10 / 10 \\ loss 1.10\n",
            "\\ epoch 2 \\ iter 10 / 10 \\ loss 1.12\n",
            "\\ epoch 3 \\ iter 10 / 10 \\ loss 1.10\n",
            "\\ epoch 4 \\ iter 10 / 10 \\ loss 1.08\n",
            "\\ epoch 5 \\ iter 10 / 10 \\ loss 1.18\n",
            "\\ epoch 6 \\ iter 10 / 10 \\ loss 1.22\n",
            "\\ epoch 7 \\ iter 10 / 10 \\ loss 1.24\n",
            "\\ epoch 8 \\ iter 10 / 10 \\ loss 1.13\n",
            "\\ epoch 9 \\ iter 10 / 10 \\ loss 1.12\n",
            "\\ epoch 10 \\ iter 10 / 10 \\ loss 1.20\n",
            "\\ epoch 11 \\ iter 10 / 10 \\ loss 1.22\n",
            "\\ epoch 12 \\ iter 10 / 10 \\ loss 1.22\n",
            "\\ epoch 13 \\ iter 10 / 10 \\ loss 1.10\n",
            "\\ epoch 14 \\ iter 10 / 10 \\ loss 1.12\n",
            "\\ epoch 15 \\ iter 10 / 10 \\ loss 1.24\n",
            "\\ epoch 16 \\ iter 10 / 10 \\ loss 1.32\n",
            "\\ epoch 17 \\ iter 10 / 10 \\ loss 1.16\n",
            "\\ epoch 18 \\ iter 10 / 10 \\ loss 1.10\n",
            "\\ epoch 19 \\ iter 10 / 10 \\ loss 1.13\n",
            "\\ epoch 20 \\ iter 10 / 10 \\ loss 1.12\n",
            "\\ epoch 21 \\ iter 10 / 10 \\ loss 1.06\n",
            "\\ epoch 22 \\ iter 10 / 10 \\ loss 1.42\n",
            "\\ epoch 23 \\ iter 10 / 10 \\ loss 1.11\n",
            "\\ epoch 24 \\ iter 10 / 10 \\ loss 1.17\n",
            "\\ epoch 25 \\ iter 10 / 10 \\ loss 1.06\n",
            "\\ epoch 26 \\ iter 10 / 10 \\ loss 1.24\n",
            "\\ epoch 27 \\ iter 10 / 10 \\ loss 1.11\n",
            "\\ epoch 28 \\ iter 10 / 10 \\ loss 1.11\n",
            "\\ epoch 29 \\ iter 10 / 10 \\ loss 1.11\n",
            "\\ epoch 30 \\ iter 10 / 10 \\ loss 1.13\n",
            "\\ epoch 31 \\ iter 10 / 10 \\ loss 1.13\n",
            "\\ epoch 32 \\ iter 10 / 10 \\ loss 1.24\n",
            "\\ epoch 33 \\ iter 10 / 10 \\ loss 1.20\n",
            "\\ epoch 34 \\ iter 10 / 10 \\ loss 1.08\n",
            "\\ epoch 35 \\ iter 10 / 10 \\ loss 1.15\n",
            "\\ epoch 36 \\ iter 10 / 10 \\ loss 1.10\n",
            "\\ epoch 37 \\ iter 10 / 10 \\ loss 1.14\n",
            "\\ epoch 38 \\ iter 10 / 10 \\ loss 1.13\n",
            "\\ epoch 39 \\ iter 10 / 10 \\ loss 1.15\n",
            "\\ epoch 40 \\ iter 10 / 10 \\ loss 1.34\n",
            "\\ epoch 41 \\ iter 10 / 10 \\ loss 1.16\n",
            "\\ epoch 42 \\ iter 10 / 10 \\ loss 1.13\n",
            "\\ epoch 43 \\ iter 10 / 10 \\ loss 1.20\n",
            "\\ epoch 44 \\ iter 10 / 10 \\ loss 1.12\n",
            "\\ epoch 45 \\ iter 10 / 10 \\ loss 1.10\n",
            "\\ epoch 46 \\ iter 10 / 10 \\ loss 1.10\n",
            "\\ epoch 47 \\ iter 10 / 10 \\ loss 1.10\n",
            "\\ epoch 48 \\ iter 10 / 10 \\ loss 1.20\n",
            "\\ epoch 49 \\ iter 10 / 10 \\ loss 1.29\n",
            "\\ epoch 50 \\ iter 10 / 10 \\ loss 1.18\n",
            "\\ epoch 51 \\ iter 10 / 10 \\ loss 1.12\n",
            "\\ epoch 52 \\ iter 10 / 10 \\ loss 1.14\n",
            "\\ epoch 53 \\ iter 10 / 10 \\ loss 1.12\n",
            "\\ epoch 54 \\ iter 10 / 10 \\ loss 1.17\n",
            "\\ epoch 55 \\ iter 10 / 10 \\ loss 1.23\n",
            "\\ epoch 56 \\ iter 10 / 10 \\ loss 1.12\n",
            "\\ epoch 57 \\ iter 10 / 10 \\ loss 1.10\n",
            "\\ epoch 58 \\ iter 10 / 10 \\ loss 1.17\n",
            "\\ epoch 59 \\ iter 10 / 10 \\ loss 1.26\n",
            "\\ epoch 60 \\ iter 10 / 10 \\ loss 1.09\n",
            "\\ epoch 61 \\ iter 10 / 10 \\ loss 1.14\n",
            "\\ epoch 62 \\ iter 10 / 10 \\ loss 1.16\n",
            "\\ epoch 63 \\ iter 10 / 10 \\ loss 1.10\n",
            "\\ epoch 64 \\ iter 10 / 10 \\ loss 1.12\n",
            "\\ epoch 65 \\ iter 10 / 10 \\ loss 1.08\n",
            "\\ epoch 66 \\ iter 10 / 10 \\ loss 1.15\n",
            "\\ epoch 67 \\ iter 10 / 10 \\ loss 1.07\n",
            "\\ epoch 68 \\ iter 10 / 10 \\ loss 1.17\n",
            "\\ epoch 69 \\ iter 10 / 10 \\ loss 1.09\n",
            "\\ epoch 70 \\ iter 10 / 10 \\ loss 1.18\n",
            "\\ epoch 71 \\ iter 10 / 10 \\ loss 1.10\n",
            "\\ epoch 72 \\ iter 10 / 10 \\ loss 1.12\n",
            "\\ epoch 73 \\ iter 10 / 10 \\ loss 1.11\n",
            "\\ epoch 74 \\ iter 10 / 10 \\ loss 1.17\n",
            "\\ epoch 75 \\ iter 10 / 10 \\ loss 1.17\n",
            "\\ epoch 76 \\ iter 10 / 10 \\ loss 1.22\n",
            "\\ epoch 77 \\ iter 10 / 10 \\ loss 1.22\n",
            "\\ epoch 78 \\ iter 10 / 10 \\ loss 1.06\n",
            "\\ epoch 79 \\ iter 10 / 10 \\ loss 1.10\n",
            "\\ epoch 80 \\ iter 10 / 10 \\ loss 1.12\n",
            "\\ epoch 81 \\ iter 10 / 10 \\ loss 1.21\n",
            "\\ epoch 82 \\ iter 10 / 10 \\ loss 1.15\n",
            "\\ epoch 83 \\ iter 10 / 10 \\ loss 1.07\n",
            "\\ epoch 84 \\ iter 10 / 10 \\ loss 1.15\n",
            "\\ epoch 85 \\ iter 10 / 10 \\ loss 1.08\n",
            "\\ epoch 86 \\ iter 10 / 10 \\ loss 1.10\n",
            "\\ epoch 87 \\ iter 10 / 10 \\ loss 1.12\n",
            "\\ epoch 88 \\ iter 10 / 10 \\ loss 1.10\n",
            "\\ epoch 89 \\ iter 10 / 10 \\ loss 1.08\n",
            "\\ epoch 90 \\ iter 10 / 10 \\ loss 1.14\n",
            "\\ epoch 91 \\ iter 10 / 10 \\ loss 1.08\n",
            "\\ epoch 92 \\ iter 10 / 10 \\ loss 1.11\n",
            "\\ epoch 93 \\ iter 10 / 10 \\ loss 1.10\n",
            "\\ epoch 94 \\ iter 10 / 10 \\ loss 1.11\n",
            "\\ epoch 95 \\ iter 10 / 10 \\ loss 1.15\n",
            "\\ epoch 96 \\ iter 10 / 10 \\ loss 1.13\n",
            "\\ epoch 97 \\ iter 10 / 10 \\ loss 1.10\n",
            "\\ epoch 98 \\ iter 10 / 10 \\ loss 1.07\n",
            "\\ epoch 99 \\ iter 10 / 10 \\ loss 1.17\n",
            "\\ epoch 100 \\ iter 10 / 10 \\ loss 1.21\n",
            "\\ epoch 101 \\ iter 10 / 10 \\ loss 1.15\n",
            "\\ epoch 102 \\ iter 10 / 10 \\ loss 1.11\n",
            "\\ epoch 103 \\ iter 10 / 10 \\ loss 1.10\n",
            "\\ epoch 104 \\ iter 10 / 10 \\ loss 1.10\n",
            "\\ epoch 105 \\ iter 10 / 10 \\ loss 1.18\n",
            "\\ epoch 106 \\ iter 10 / 10 \\ loss 1.09\n",
            "\\ epoch 107 \\ iter 10 / 10 \\ loss 1.11\n",
            "\\ epoch 108 \\ iter 10 / 10 \\ loss 1.15\n",
            "\\ epoch 109 \\ iter 10 / 10 \\ loss 1.28\n",
            "\\ epoch 110 \\ iter 10 / 10 \\ loss 1.14\n",
            "\\ epoch 111 \\ iter 10 / 10 \\ loss 1.10\n",
            "\\ epoch 112 \\ iter 10 / 10 \\ loss 1.10\n",
            "\\ epoch 113 \\ iter 10 / 10 \\ loss 1.10\n",
            "\\ epoch 114 \\ iter 10 / 10 \\ loss 1.08\n",
            "\\ epoch 115 \\ iter 10 / 10 \\ loss 1.08\n",
            "\\ epoch 116 \\ iter 10 / 10 \\ loss 1.13\n",
            "\\ epoch 117 \\ iter 10 / 10 \\ loss 1.12\n",
            "\\ epoch 118 \\ iter 10 / 10 \\ loss 1.08\n",
            "\\ epoch 119 \\ iter 10 / 10 \\ loss 1.09\n",
            "\\ epoch 120 \\ iter 10 / 10 \\ loss 1.11\n",
            "\\ epoch 121 \\ iter 10 / 10 \\ loss 1.06\n",
            "\\ epoch 122 \\ iter 10 / 10 \\ loss 1.13\n",
            "\\ epoch 123 \\ iter 10 / 10 \\ loss 1.12\n",
            "\\ epoch 124 \\ iter 10 / 10 \\ loss 1.05\n",
            "\\ epoch 125 \\ iter 10 / 10 \\ loss 1.05\n",
            "\\ epoch 126 \\ iter 10 / 10 \\ loss 1.10\n",
            "\\ epoch 127 \\ iter 10 / 10 \\ loss 1.06\n",
            "\\ epoch 128 \\ iter 10 / 10 \\ loss 1.06\n",
            "\\ epoch 129 \\ iter 10 / 10 \\ loss 1.06\n",
            "\\ epoch 130 \\ iter 10 / 10 \\ loss 1.07\n",
            "\\ epoch 131 \\ iter 10 / 10 \\ loss 1.05\n",
            "\\ epoch 132 \\ iter 10 / 10 \\ loss 1.04\n",
            "\\ epoch 133 \\ iter 10 / 10 \\ loss 1.10\n",
            "\\ epoch 134 \\ iter 10 / 10 \\ loss 1.04\n",
            "\\ epoch 135 \\ iter 10 / 10 \\ loss 1.02\n",
            "\\ epoch 136 \\ iter 10 / 10 \\ loss 1.09\n",
            "\\ epoch 137 \\ iter 10 / 10 \\ loss 1.08\n",
            "\\ epoch 138 \\ iter 10 / 10 \\ loss 0.98\n",
            "\\ epoch 139 \\ iter 10 / 10 \\ loss 1.18\n",
            "\\ epoch 140 \\ iter 10 / 10 \\ loss 0.98\n",
            "\\ epoch 141 \\ iter 10 / 10 \\ loss 1.03\n",
            "\\ epoch 142 \\ iter 10 / 10 \\ loss 1.05\n",
            "\\ epoch 143 \\ iter 10 / 10 \\ loss 1.04\n",
            "\\ epoch 144 \\ iter 10 / 10 \\ loss 1.06\n",
            "\\ epoch 145 \\ iter 10 / 10 \\ loss 1.01\n",
            "\\ epoch 146 \\ iter 10 / 10 \\ loss 1.07\n",
            "\\ epoch 147 \\ iter 10 / 10 \\ loss 1.04\n",
            "\\ epoch 148 \\ iter 10 / 10 \\ loss 1.01\n",
            "\\ epoch 149 \\ iter 10 / 10 \\ loss 1.00\n",
            "\\ epoch 150 \\ iter 10 / 10 \\ loss 1.02\n",
            "\\ epoch 151 \\ iter 10 / 10 \\ loss 1.04\n",
            "\\ epoch 152 \\ iter 10 / 10 \\ loss 0.96\n",
            "\\ epoch 153 \\ iter 10 / 10 \\ loss 1.01\n",
            "\\ epoch 154 \\ iter 10 / 10 \\ loss 1.00\n",
            "\\ epoch 155 \\ iter 10 / 10 \\ loss 1.01\n",
            "\\ epoch 156 \\ iter 10 / 10 \\ loss 0.98\n",
            "\\ epoch 157 \\ iter 10 / 10 \\ loss 1.11\n",
            "\\ epoch 158 \\ iter 10 / 10 \\ loss 1.04\n",
            "\\ epoch 159 \\ iter 10 / 10 \\ loss 0.95\n",
            "\\ epoch 160 \\ iter 10 / 10 \\ loss 0.93\n",
            "\\ epoch 161 \\ iter 10 / 10 \\ loss 1.03\n",
            "\\ epoch 162 \\ iter 10 / 10 \\ loss 0.97\n",
            "\\ epoch 163 \\ iter 10 / 10 \\ loss 1.07\n",
            "\\ epoch 164 \\ iter 10 / 10 \\ loss 0.96\n",
            "\\ epoch 165 \\ iter 10 / 10 \\ loss 0.91\n",
            "\\ epoch 166 \\ iter 10 / 10 \\ loss 0.95\n",
            "\\ epoch 167 \\ iter 10 / 10 \\ loss 0.96\n",
            "\\ epoch 168 \\ iter 10 / 10 \\ loss 0.91\n",
            "\\ epoch 169 \\ iter 10 / 10 \\ loss 0.95\n",
            "\\ epoch 170 \\ iter 10 / 10 \\ loss 0.99\n",
            "\\ epoch 171 \\ iter 10 / 10 \\ loss 0.87\n",
            "\\ epoch 172 \\ iter 10 / 10 \\ loss 1.01\n",
            "\\ epoch 173 \\ iter 10 / 10 \\ loss 0.83\n",
            "\\ epoch 174 \\ iter 10 / 10 \\ loss 1.05\n",
            "\\ epoch 175 \\ iter 10 / 10 \\ loss 0.89\n",
            "\\ epoch 176 \\ iter 10 / 10 \\ loss 0.90\n",
            "\\ epoch 177 \\ iter 10 / 10 \\ loss 0.94\n",
            "\\ epoch 178 \\ iter 10 / 10 \\ loss 0.90\n",
            "\\ epoch 179 \\ iter 10 / 10 \\ loss 0.92\n",
            "\\ epoch 180 \\ iter 10 / 10 \\ loss 0.85\n",
            "\\ epoch 181 \\ iter 10 / 10 \\ loss 0.83\n",
            "\\ epoch 182 \\ iter 10 / 10 \\ loss 0.90\n",
            "\\ epoch 183 \\ iter 10 / 10 \\ loss 0.89\n",
            "\\ epoch 184 \\ iter 10 / 10 \\ loss 0.88\n",
            "\\ epoch 185 \\ iter 10 / 10 \\ loss 0.87\n",
            "\\ epoch 186 \\ iter 10 / 10 \\ loss 0.86\n",
            "\\ epoch 187 \\ iter 10 / 10 \\ loss 0.82\n",
            "\\ epoch 188 \\ iter 10 / 10 \\ loss 0.81\n",
            "\\ epoch 189 \\ iter 10 / 10 \\ loss 0.84\n",
            "\\ epoch 190 \\ iter 10 / 10 \\ loss 0.98\n",
            "\\ epoch 191 \\ iter 10 / 10 \\ loss 1.04\n",
            "\\ epoch 192 \\ iter 10 / 10 \\ loss 0.93\n",
            "\\ epoch 193 \\ iter 10 / 10 \\ loss 0.84\n",
            "\\ epoch 194 \\ iter 10 / 10 \\ loss 0.88\n",
            "\\ epoch 195 \\ iter 10 / 10 \\ loss 0.73\n",
            "\\ epoch 196 \\ iter 10 / 10 \\ loss 0.89\n",
            "\\ epoch 197 \\ iter 10 / 10 \\ loss 0.89\n",
            "\\ epoch 198 \\ iter 10 / 10 \\ loss 0.87\n",
            "\\ epoch 199 \\ iter 10 / 10 \\ loss 0.74\n",
            "\\ epoch 200 \\ iter 10 / 10 \\ loss 0.90\n",
            "\\ epoch 201 \\ iter 10 / 10 \\ loss 0.82\n",
            "\\ epoch 202 \\ iter 10 / 10 \\ loss 0.91\n",
            "\\ epoch 203 \\ iter 10 / 10 \\ loss 0.94\n",
            "\\ epoch 204 \\ iter 10 / 10 \\ loss 0.84\n",
            "\\ epoch 205 \\ iter 10 / 10 \\ loss 0.84\n",
            "\\ epoch 206 \\ iter 10 / 10 \\ loss 1.02\n",
            "\\ epoch 207 \\ iter 10 / 10 \\ loss 0.88\n",
            "\\ epoch 208 \\ iter 10 / 10 \\ loss 0.87\n",
            "\\ epoch 209 \\ iter 10 / 10 \\ loss 0.70\n",
            "\\ epoch 210 \\ iter 10 / 10 \\ loss 0.90\n",
            "\\ epoch 211 \\ iter 10 / 10 \\ loss 0.77\n",
            "\\ epoch 212 \\ iter 10 / 10 \\ loss 0.77\n",
            "\\ epoch 213 \\ iter 10 / 10 \\ loss 0.74\n",
            "\\ epoch 214 \\ iter 10 / 10 \\ loss 0.86\n",
            "\\ epoch 215 \\ iter 10 / 10 \\ loss 0.79\n",
            "\\ epoch 216 \\ iter 10 / 10 \\ loss 0.90\n",
            "\\ epoch 217 \\ iter 10 / 10 \\ loss 0.74\n",
            "\\ epoch 218 \\ iter 10 / 10 \\ loss 0.86\n",
            "\\ epoch 219 \\ iter 10 / 10 \\ loss 0.67\n",
            "\\ epoch 220 \\ iter 10 / 10 \\ loss 0.84\n",
            "\\ epoch 221 \\ iter 10 / 10 \\ loss 0.69\n",
            "\\ epoch 222 \\ iter 10 / 10 \\ loss 0.70\n",
            "\\ epoch 223 \\ iter 10 / 10 \\ loss 0.77\n",
            "\\ epoch 224 \\ iter 10 / 10 \\ loss 0.88\n",
            "\\ epoch 225 \\ iter 10 / 10 \\ loss 0.79\n",
            "\\ epoch 226 \\ iter 10 / 10 \\ loss 0.68\n",
            "\\ epoch 227 \\ iter 10 / 10 \\ loss 0.72\n",
            "\\ epoch 228 \\ iter 10 / 10 \\ loss 0.65\n",
            "\\ epoch 229 \\ iter 10 / 10 \\ loss 0.70\n",
            "\\ epoch 230 \\ iter 10 / 10 \\ loss 0.77\n",
            "\\ epoch 231 \\ iter 10 / 10 \\ loss 0.79\n",
            "\\ epoch 232 \\ iter 10 / 10 \\ loss 0.70\n",
            "\\ epoch 233 \\ iter 10 / 10 \\ loss 0.80\n",
            "\\ epoch 234 \\ iter 10 / 10 \\ loss 0.86\n",
            "\\ epoch 235 \\ iter 10 / 10 \\ loss 0.73\n",
            "\\ epoch 236 \\ iter 10 / 10 \\ loss 0.72\n",
            "\\ epoch 237 \\ iter 10 / 10 \\ loss 0.75\n",
            "\\ epoch 238 \\ iter 10 / 10 \\ loss 0.83\n",
            "\\ epoch 239 \\ iter 10 / 10 \\ loss 0.64\n",
            "\\ epoch 240 \\ iter 10 / 10 \\ loss 0.80\n",
            "\\ epoch 241 \\ iter 10 / 10 \\ loss 0.71\n",
            "\\ epoch 242 \\ iter 10 / 10 \\ loss 0.59\n",
            "\\ epoch 243 \\ iter 10 / 10 \\ loss 0.69\n",
            "\\ epoch 244 \\ iter 10 / 10 \\ loss 0.79\n",
            "\\ epoch 245 \\ iter 10 / 10 \\ loss 0.68\n",
            "\\ epoch 246 \\ iter 10 / 10 \\ loss 0.80\n",
            "\\ epoch 247 \\ iter 10 / 10 \\ loss 0.82\n",
            "\\ epoch 248 \\ iter 10 / 10 \\ loss 0.85\n",
            "\\ epoch 249 \\ iter 10 / 10 \\ loss 0.63\n",
            "\\ epoch 250 \\ iter 10 / 10 \\ loss 0.84\n",
            "\\ epoch 251 \\ iter 10 / 10 \\ loss 0.79\n",
            "\\ epoch 252 \\ iter 10 / 10 \\ loss 0.77\n",
            "\\ epoch 253 \\ iter 10 / 10 \\ loss 0.78\n",
            "\\ epoch 254 \\ iter 10 / 10 \\ loss 0.63\n",
            "\\ epoch 255 \\ iter 10 / 10 \\ loss 0.74\n",
            "\\ epoch 256 \\ iter 10 / 10 \\ loss 0.74\n",
            "\\ epoch 257 \\ iter 10 / 10 \\ loss 0.70\n",
            "\\ epoch 258 \\ iter 10 / 10 \\ loss 0.86\n",
            "\\ epoch 259 \\ iter 10 / 10 \\ loss 0.79\n",
            "\\ epoch 260 \\ iter 10 / 10 \\ loss 0.93\n",
            "\\ epoch 261 \\ iter 10 / 10 \\ loss 0.85\n",
            "\\ epoch 262 \\ iter 10 / 10 \\ loss 0.71\n",
            "\\ epoch 263 \\ iter 10 / 10 \\ loss 0.77\n",
            "\\ epoch 264 \\ iter 10 / 10 \\ loss 0.76\n",
            "\\ epoch 265 \\ iter 10 / 10 \\ loss 0.71\n",
            "\\ epoch 266 \\ iter 10 / 10 \\ loss 0.83\n",
            "\\ epoch 267 \\ iter 10 / 10 \\ loss 0.80\n",
            "\\ epoch 268 \\ iter 10 / 10 \\ loss 0.88\n",
            "\\ epoch 269 \\ iter 10 / 10 \\ loss 0.63\n",
            "\\ epoch 270 \\ iter 10 / 10 \\ loss 0.80\n",
            "\\ epoch 271 \\ iter 10 / 10 \\ loss 0.72\n",
            "\\ epoch 272 \\ iter 10 / 10 \\ loss 0.76\n",
            "\\ epoch 273 \\ iter 10 / 10 \\ loss 1.12\n",
            "\\ epoch 274 \\ iter 10 / 10 \\ loss 0.83\n",
            "\\ epoch 275 \\ iter 10 / 10 \\ loss 0.66\n",
            "\\ epoch 276 \\ iter 10 / 10 \\ loss 0.66\n",
            "\\ epoch 277 \\ iter 10 / 10 \\ loss 0.69\n",
            "\\ epoch 278 \\ iter 10 / 10 \\ loss 0.67\n",
            "\\ epoch 279 \\ iter 10 / 10 \\ loss 0.75\n",
            "\\ epoch 280 \\ iter 10 / 10 \\ loss 0.72\n",
            "\\ epoch 281 \\ iter 10 / 10 \\ loss 0.75\n",
            "\\ epoch 282 \\ iter 10 / 10 \\ loss 0.83\n",
            "\\ epoch 283 \\ iter 10 / 10 \\ loss 0.75\n",
            "\\ epoch 284 \\ iter 10 / 10 \\ loss 0.82\n",
            "\\ epoch 285 \\ iter 10 / 10 \\ loss 0.71\n",
            "\\ epoch 286 \\ iter 10 / 10 \\ loss 0.77\n",
            "\\ epoch 287 \\ iter 10 / 10 \\ loss 0.75\n",
            "\\ epoch 288 \\ iter 10 / 10 \\ loss 0.71\n",
            "\\ epoch 289 \\ iter 10 / 10 \\ loss 0.83\n",
            "\\ epoch 290 \\ iter 10 / 10 \\ loss 0.58\n",
            "\\ epoch 291 \\ iter 10 / 10 \\ loss 0.62\n",
            "\\ epoch 292 \\ iter 10 / 10 \\ loss 0.84\n",
            "\\ epoch 293 \\ iter 10 / 10 \\ loss 0.90\n",
            "\\ epoch 294 \\ iter 10 / 10 \\ loss 0.76\n",
            "\\ epoch 295 \\ iter 10 / 10 \\ loss 0.76\n",
            "\\ epoch 296 \\ iter 10 / 10 \\ loss 0.91\n",
            "\\ epoch 297 \\ iter 10 / 10 \\ loss 0.74\n",
            "\\ epoch 298 \\ iter 10 / 10 \\ loss 0.79\n",
            "\\ epoch 299 \\ iter 10 / 10 \\ loss 0.90\n",
            "\\ epoch 300 \\ iter 10 / 10 \\ loss 0.69\n"
          ],
          "name": "stdout"
        }
      ]
    },
    {
      "cell_type": "code",
      "metadata": {
        "id": "8INTSBo8shpH",
        "colab_type": "code",
        "colab": {
          "base_uri": "https://localhost:8080/",
          "height": 35
        },
        "outputId": "4e0a87b6-985f-4cb8-d851-bb081eeda7ae"
      },
      "source": [
        "import numpy as np\n",
        "np.random.permutation(10)"
      ],
      "execution_count": 44,
      "outputs": [
        {
          "output_type": "execute_result",
          "data": {
            "text/plain": [
              "array([5, 1, 8, 4, 9, 7, 0, 2, 6, 3])"
            ]
          },
          "metadata": {
            "tags": []
          },
          "execution_count": 44
        }
      ]
    },
    {
      "cell_type": "code",
      "metadata": {
        "id": "bccNXI_NstuZ",
        "colab_type": "code",
        "colab": {
          "base_uri": "https://localhost:8080/",
          "height": 35
        },
        "outputId": "2a4287aa-2020-4e48-d3a9-20c2be4a7fe7"
      },
      "source": [
        "np.random.permutation(10)"
      ],
      "execution_count": 45,
      "outputs": [
        {
          "output_type": "execute_result",
          "data": {
            "text/plain": [
              "array([3, 4, 2, 7, 8, 5, 6, 0, 9, 1])"
            ]
          },
          "metadata": {
            "tags": []
          },
          "execution_count": 45
        }
      ]
    },
    {
      "cell_type": "markdown",
      "metadata": {
        "id": "mc3bdoG0thWw",
        "colab_type": "text"
      },
      "source": [
        "1.4.4 Trainerクラス"
      ]
    },
    {
      "cell_type": "code",
      "metadata": {
        "id": "C6dc5rmrtnEo",
        "colab_type": "code",
        "colab": {
          "base_uri": "https://localhost:8080/",
          "height": 1000
        },
        "outputId": "8f8b2b24-a9a6-4f45-ad2d-603c6ec06d61"
      },
      "source": [
        "import sys\n",
        "sys.path.append('/content/drive/My Drive/deep-learning-from-scratch-2-master/ch01')\n",
        "from common.optimizer import SGD\n",
        "from common.trainer import Trainer\n",
        "from dataset import spiral\n",
        "from two_layer_net import TwoLayerNet\n",
        "\n",
        "batch_size = 30\n",
        "hidden_size = 10\n",
        "learning_rate = 1.0\n",
        "\n",
        "x, t = spiral.load_data()\n",
        "model = TwoLayerNet(input_size=2, hidden_size=hidden_size, output_size=3)\n",
        "optimizer = SGD(lr=learning_rate)\n",
        "\n",
        "trainer = Trainer(model, optimizer)\n",
        "trainer.fit(x, t, max_epoch, batch_size, eval_interval=10)\n",
        "trainer.plot()"
      ],
      "execution_count": 50,
      "outputs": [
        {
          "output_type": "stream",
          "text": [
            "| epoch 1 |  iter 1 / 10 | time 0[s] | loss 1.10\n",
            "| epoch 2 |  iter 1 / 10 | time 0[s] | loss 1.12\n",
            "| epoch 3 |  iter 1 / 10 | time 0[s] | loss 1.13\n",
            "| epoch 4 |  iter 1 / 10 | time 0[s] | loss 1.12\n",
            "| epoch 5 |  iter 1 / 10 | time 0[s] | loss 1.12\n",
            "| epoch 6 |  iter 1 / 10 | time 0[s] | loss 1.10\n",
            "| epoch 7 |  iter 1 / 10 | time 0[s] | loss 1.14\n",
            "| epoch 8 |  iter 1 / 10 | time 0[s] | loss 1.16\n",
            "| epoch 9 |  iter 1 / 10 | time 0[s] | loss 1.11\n",
            "| epoch 10 |  iter 1 / 10 | time 0[s] | loss 1.12\n",
            "| epoch 11 |  iter 1 / 10 | time 0[s] | loss 1.12\n",
            "| epoch 12 |  iter 1 / 10 | time 0[s] | loss 1.12\n",
            "| epoch 13 |  iter 1 / 10 | time 0[s] | loss 1.10\n",
            "| epoch 14 |  iter 1 / 10 | time 0[s] | loss 1.09\n",
            "| epoch 15 |  iter 1 / 10 | time 0[s] | loss 1.08\n",
            "| epoch 16 |  iter 1 / 10 | time 0[s] | loss 1.04\n",
            "| epoch 17 |  iter 1 / 10 | time 0[s] | loss 1.03\n",
            "| epoch 18 |  iter 1 / 10 | time 0[s] | loss 0.94\n",
            "| epoch 19 |  iter 1 / 10 | time 0[s] | loss 0.92\n",
            "| epoch 20 |  iter 1 / 10 | time 0[s] | loss 0.92\n",
            "| epoch 21 |  iter 1 / 10 | time 0[s] | loss 0.87\n",
            "| epoch 22 |  iter 1 / 10 | time 0[s] | loss 0.85\n",
            "| epoch 23 |  iter 1 / 10 | time 0[s] | loss 0.80\n",
            "| epoch 24 |  iter 1 / 10 | time 0[s] | loss 0.79\n",
            "| epoch 25 |  iter 1 / 10 | time 0[s] | loss 0.78\n",
            "| epoch 26 |  iter 1 / 10 | time 0[s] | loss 0.83\n",
            "| epoch 27 |  iter 1 / 10 | time 0[s] | loss 0.77\n",
            "| epoch 28 |  iter 1 / 10 | time 0[s] | loss 0.76\n",
            "| epoch 29 |  iter 1 / 10 | time 0[s] | loss 0.77\n",
            "| epoch 30 |  iter 1 / 10 | time 0[s] | loss 0.76\n",
            "| epoch 31 |  iter 1 / 10 | time 0[s] | loss 0.77\n",
            "| epoch 32 |  iter 1 / 10 | time 0[s] | loss 0.75\n",
            "| epoch 33 |  iter 1 / 10 | time 0[s] | loss 0.78\n",
            "| epoch 34 |  iter 1 / 10 | time 0[s] | loss 0.77\n",
            "| epoch 35 |  iter 1 / 10 | time 0[s] | loss 0.78\n",
            "| epoch 36 |  iter 1 / 10 | time 0[s] | loss 0.74\n",
            "| epoch 37 |  iter 1 / 10 | time 0[s] | loss 0.75\n",
            "| epoch 38 |  iter 1 / 10 | time 0[s] | loss 0.77\n",
            "| epoch 39 |  iter 1 / 10 | time 0[s] | loss 0.75\n",
            "| epoch 40 |  iter 1 / 10 | time 0[s] | loss 0.73\n",
            "| epoch 41 |  iter 1 / 10 | time 0[s] | loss 0.75\n",
            "| epoch 42 |  iter 1 / 10 | time 0[s] | loss 0.76\n",
            "| epoch 43 |  iter 1 / 10 | time 0[s] | loss 0.79\n",
            "| epoch 44 |  iter 1 / 10 | time 0[s] | loss 0.74\n",
            "| epoch 45 |  iter 1 / 10 | time 0[s] | loss 0.75\n",
            "| epoch 46 |  iter 1 / 10 | time 0[s] | loss 0.73\n",
            "| epoch 47 |  iter 1 / 10 | time 0[s] | loss 0.73\n",
            "| epoch 48 |  iter 1 / 10 | time 0[s] | loss 0.73\n",
            "| epoch 49 |  iter 1 / 10 | time 0[s] | loss 0.73\n",
            "| epoch 50 |  iter 1 / 10 | time 0[s] | loss 0.72\n",
            "| epoch 51 |  iter 1 / 10 | time 0[s] | loss 0.72\n",
            "| epoch 52 |  iter 1 / 10 | time 0[s] | loss 0.72\n",
            "| epoch 53 |  iter 1 / 10 | time 0[s] | loss 0.72\n",
            "| epoch 54 |  iter 1 / 10 | time 0[s] | loss 0.74\n",
            "| epoch 55 |  iter 1 / 10 | time 0[s] | loss 0.74\n",
            "| epoch 56 |  iter 1 / 10 | time 0[s] | loss 0.73\n",
            "| epoch 57 |  iter 1 / 10 | time 0[s] | loss 0.72\n",
            "| epoch 58 |  iter 1 / 10 | time 0[s] | loss 0.69\n",
            "| epoch 59 |  iter 1 / 10 | time 0[s] | loss 0.72\n",
            "| epoch 60 |  iter 1 / 10 | time 0[s] | loss 0.70\n",
            "| epoch 61 |  iter 1 / 10 | time 0[s] | loss 0.69\n",
            "| epoch 62 |  iter 1 / 10 | time 0[s] | loss 0.71\n",
            "| epoch 63 |  iter 1 / 10 | time 0[s] | loss 0.70\n",
            "| epoch 64 |  iter 1 / 10 | time 0[s] | loss 0.71\n",
            "| epoch 65 |  iter 1 / 10 | time 0[s] | loss 0.72\n",
            "| epoch 66 |  iter 1 / 10 | time 0[s] | loss 0.71\n",
            "| epoch 67 |  iter 1 / 10 | time 0[s] | loss 0.71\n",
            "| epoch 68 |  iter 1 / 10 | time 0[s] | loss 0.71\n",
            "| epoch 69 |  iter 1 / 10 | time 0[s] | loss 0.70\n",
            "| epoch 70 |  iter 1 / 10 | time 0[s] | loss 0.68\n",
            "| epoch 71 |  iter 1 / 10 | time 0[s] | loss 0.73\n",
            "| epoch 72 |  iter 1 / 10 | time 0[s] | loss 0.66\n",
            "| epoch 73 |  iter 1 / 10 | time 0[s] | loss 0.69\n",
            "| epoch 74 |  iter 1 / 10 | time 0[s] | loss 0.66\n",
            "| epoch 75 |  iter 1 / 10 | time 0[s] | loss 0.70\n",
            "| epoch 76 |  iter 1 / 10 | time 0[s] | loss 0.65\n",
            "| epoch 77 |  iter 1 / 10 | time 0[s] | loss 0.67\n",
            "| epoch 78 |  iter 1 / 10 | time 0[s] | loss 0.70\n",
            "| epoch 79 |  iter 1 / 10 | time 0[s] | loss 0.63\n",
            "| epoch 80 |  iter 1 / 10 | time 0[s] | loss 0.66\n",
            "| epoch 81 |  iter 1 / 10 | time 0[s] | loss 0.65\n",
            "| epoch 82 |  iter 1 / 10 | time 0[s] | loss 0.66\n",
            "| epoch 83 |  iter 1 / 10 | time 0[s] | loss 0.64\n",
            "| epoch 84 |  iter 1 / 10 | time 0[s] | loss 0.62\n",
            "| epoch 85 |  iter 1 / 10 | time 0[s] | loss 0.62\n",
            "| epoch 86 |  iter 1 / 10 | time 0[s] | loss 0.63\n",
            "| epoch 87 |  iter 1 / 10 | time 0[s] | loss 0.59\n",
            "| epoch 88 |  iter 1 / 10 | time 0[s] | loss 0.58\n",
            "| epoch 89 |  iter 1 / 10 | time 0[s] | loss 0.61\n",
            "| epoch 90 |  iter 1 / 10 | time 0[s] | loss 0.59\n",
            "| epoch 91 |  iter 1 / 10 | time 0[s] | loss 0.58\n",
            "| epoch 92 |  iter 1 / 10 | time 0[s] | loss 0.57\n",
            "| epoch 93 |  iter 1 / 10 | time 0[s] | loss 0.55\n",
            "| epoch 94 |  iter 1 / 10 | time 0[s] | loss 0.54\n",
            "| epoch 95 |  iter 1 / 10 | time 0[s] | loss 0.53\n",
            "| epoch 96 |  iter 1 / 10 | time 0[s] | loss 0.54\n",
            "| epoch 97 |  iter 1 / 10 | time 0[s] | loss 0.51\n",
            "| epoch 98 |  iter 1 / 10 | time 0[s] | loss 0.51\n",
            "| epoch 99 |  iter 1 / 10 | time 0[s] | loss 0.50\n",
            "| epoch 100 |  iter 1 / 10 | time 0[s] | loss 0.47\n",
            "| epoch 101 |  iter 1 / 10 | time 0[s] | loss 0.49\n",
            "| epoch 102 |  iter 1 / 10 | time 0[s] | loss 0.46\n",
            "| epoch 103 |  iter 1 / 10 | time 0[s] | loss 0.44\n",
            "| epoch 104 |  iter 1 / 10 | time 0[s] | loss 0.47\n",
            "| epoch 105 |  iter 1 / 10 | time 0[s] | loss 0.44\n",
            "| epoch 106 |  iter 1 / 10 | time 0[s] | loss 0.43\n",
            "| epoch 107 |  iter 1 / 10 | time 0[s] | loss 0.43\n",
            "| epoch 108 |  iter 1 / 10 | time 0[s] | loss 0.39\n",
            "| epoch 109 |  iter 1 / 10 | time 0[s] | loss 0.40\n",
            "| epoch 110 |  iter 1 / 10 | time 0[s] | loss 0.41\n",
            "| epoch 111 |  iter 1 / 10 | time 0[s] | loss 0.38\n",
            "| epoch 112 |  iter 1 / 10 | time 0[s] | loss 0.38\n",
            "| epoch 113 |  iter 1 / 10 | time 0[s] | loss 0.38\n",
            "| epoch 114 |  iter 1 / 10 | time 0[s] | loss 0.37\n",
            "| epoch 115 |  iter 1 / 10 | time 0[s] | loss 0.36\n",
            "| epoch 116 |  iter 1 / 10 | time 0[s] | loss 0.34\n",
            "| epoch 117 |  iter 1 / 10 | time 0[s] | loss 0.35\n",
            "| epoch 118 |  iter 1 / 10 | time 0[s] | loss 0.33\n",
            "| epoch 119 |  iter 1 / 10 | time 0[s] | loss 0.35\n",
            "| epoch 120 |  iter 1 / 10 | time 0[s] | loss 0.33\n",
            "| epoch 121 |  iter 1 / 10 | time 0[s] | loss 0.33\n",
            "| epoch 122 |  iter 1 / 10 | time 0[s] | loss 0.32\n",
            "| epoch 123 |  iter 1 / 10 | time 0[s] | loss 0.31\n",
            "| epoch 124 |  iter 1 / 10 | time 0[s] | loss 0.31\n",
            "| epoch 125 |  iter 1 / 10 | time 0[s] | loss 0.31\n",
            "| epoch 126 |  iter 1 / 10 | time 0[s] | loss 0.30\n",
            "| epoch 127 |  iter 1 / 10 | time 0[s] | loss 0.30\n",
            "| epoch 128 |  iter 1 / 10 | time 0[s] | loss 0.27\n",
            "| epoch 129 |  iter 1 / 10 | time 0[s] | loss 0.30\n",
            "| epoch 130 |  iter 1 / 10 | time 0[s] | loss 0.28\n",
            "| epoch 131 |  iter 1 / 10 | time 0[s] | loss 0.26\n",
            "| epoch 132 |  iter 1 / 10 | time 0[s] | loss 0.27\n",
            "| epoch 133 |  iter 1 / 10 | time 0[s] | loss 0.27\n",
            "| epoch 134 |  iter 1 / 10 | time 0[s] | loss 0.28\n",
            "| epoch 135 |  iter 1 / 10 | time 0[s] | loss 0.26\n",
            "| epoch 136 |  iter 1 / 10 | time 0[s] | loss 0.28\n",
            "| epoch 137 |  iter 1 / 10 | time 0[s] | loss 0.25\n",
            "| epoch 138 |  iter 1 / 10 | time 0[s] | loss 0.26\n",
            "| epoch 139 |  iter 1 / 10 | time 0[s] | loss 0.26\n",
            "| epoch 140 |  iter 1 / 10 | time 0[s] | loss 0.26\n",
            "| epoch 141 |  iter 1 / 10 | time 0[s] | loss 0.23\n",
            "| epoch 142 |  iter 1 / 10 | time 0[s] | loss 0.23\n",
            "| epoch 143 |  iter 1 / 10 | time 0[s] | loss 0.26\n",
            "| epoch 144 |  iter 1 / 10 | time 0[s] | loss 0.23\n",
            "| epoch 145 |  iter 1 / 10 | time 0[s] | loss 0.24\n",
            "| epoch 146 |  iter 1 / 10 | time 0[s] | loss 0.24\n",
            "| epoch 147 |  iter 1 / 10 | time 0[s] | loss 0.25\n",
            "| epoch 148 |  iter 1 / 10 | time 0[s] | loss 0.21\n",
            "| epoch 149 |  iter 1 / 10 | time 0[s] | loss 0.23\n",
            "| epoch 150 |  iter 1 / 10 | time 0[s] | loss 0.22\n",
            "| epoch 151 |  iter 1 / 10 | time 0[s] | loss 0.22\n",
            "| epoch 152 |  iter 1 / 10 | time 0[s] | loss 0.23\n",
            "| epoch 153 |  iter 1 / 10 | time 0[s] | loss 0.23\n",
            "| epoch 154 |  iter 1 / 10 | time 0[s] | loss 0.20\n",
            "| epoch 155 |  iter 1 / 10 | time 0[s] | loss 0.22\n",
            "| epoch 156 |  iter 1 / 10 | time 0[s] | loss 0.21\n",
            "| epoch 157 |  iter 1 / 10 | time 0[s] | loss 0.21\n",
            "| epoch 158 |  iter 1 / 10 | time 0[s] | loss 0.20\n",
            "| epoch 159 |  iter 1 / 10 | time 0[s] | loss 0.21\n",
            "| epoch 160 |  iter 1 / 10 | time 0[s] | loss 0.20\n",
            "| epoch 161 |  iter 1 / 10 | time 0[s] | loss 0.19\n",
            "| epoch 162 |  iter 1 / 10 | time 0[s] | loss 0.22\n",
            "| epoch 163 |  iter 1 / 10 | time 0[s] | loss 0.19\n",
            "| epoch 164 |  iter 1 / 10 | time 0[s] | loss 0.21\n",
            "| epoch 165 |  iter 1 / 10 | time 0[s] | loss 0.20\n",
            "| epoch 166 |  iter 1 / 10 | time 0[s] | loss 0.20\n",
            "| epoch 167 |  iter 1 / 10 | time 0[s] | loss 0.20\n",
            "| epoch 168 |  iter 1 / 10 | time 0[s] | loss 0.19\n",
            "| epoch 169 |  iter 1 / 10 | time 0[s] | loss 0.18\n",
            "| epoch 170 |  iter 1 / 10 | time 0[s] | loss 0.19\n",
            "| epoch 171 |  iter 1 / 10 | time 0[s] | loss 0.19\n",
            "| epoch 172 |  iter 1 / 10 | time 0[s] | loss 0.20\n",
            "| epoch 173 |  iter 1 / 10 | time 0[s] | loss 0.16\n",
            "| epoch 174 |  iter 1 / 10 | time 0[s] | loss 0.20\n",
            "| epoch 175 |  iter 1 / 10 | time 0[s] | loss 0.18\n",
            "| epoch 176 |  iter 1 / 10 | time 0[s] | loss 0.17\n",
            "| epoch 177 |  iter 1 / 10 | time 0[s] | loss 0.17\n",
            "| epoch 178 |  iter 1 / 10 | time 0[s] | loss 0.17\n",
            "| epoch 179 |  iter 1 / 10 | time 0[s] | loss 0.18\n",
            "| epoch 180 |  iter 1 / 10 | time 0[s] | loss 0.19\n",
            "| epoch 181 |  iter 1 / 10 | time 0[s] | loss 0.17\n",
            "| epoch 182 |  iter 1 / 10 | time 0[s] | loss 0.18\n",
            "| epoch 183 |  iter 1 / 10 | time 0[s] | loss 0.16\n",
            "| epoch 184 |  iter 1 / 10 | time 0[s] | loss 0.18\n",
            "| epoch 185 |  iter 1 / 10 | time 0[s] | loss 0.18\n",
            "| epoch 186 |  iter 1 / 10 | time 0[s] | loss 0.17\n",
            "| epoch 187 |  iter 1 / 10 | time 0[s] | loss 0.17\n",
            "| epoch 188 |  iter 1 / 10 | time 0[s] | loss 0.18\n",
            "| epoch 189 |  iter 1 / 10 | time 0[s] | loss 0.16\n",
            "| epoch 190 |  iter 1 / 10 | time 0[s] | loss 0.16\n",
            "| epoch 191 |  iter 1 / 10 | time 0[s] | loss 0.17\n",
            "| epoch 192 |  iter 1 / 10 | time 0[s] | loss 0.17\n",
            "| epoch 193 |  iter 1 / 10 | time 0[s] | loss 0.16\n",
            "| epoch 194 |  iter 1 / 10 | time 0[s] | loss 0.16\n",
            "| epoch 195 |  iter 1 / 10 | time 0[s] | loss 0.16\n",
            "| epoch 196 |  iter 1 / 10 | time 0[s] | loss 0.17\n",
            "| epoch 197 |  iter 1 / 10 | time 0[s] | loss 0.16\n",
            "| epoch 198 |  iter 1 / 10 | time 0[s] | loss 0.17\n",
            "| epoch 199 |  iter 1 / 10 | time 0[s] | loss 0.16\n",
            "| epoch 200 |  iter 1 / 10 | time 0[s] | loss 0.14\n",
            "| epoch 201 |  iter 1 / 10 | time 0[s] | loss 0.16\n",
            "| epoch 202 |  iter 1 / 10 | time 0[s] | loss 0.16\n",
            "| epoch 203 |  iter 1 / 10 | time 0[s] | loss 0.15\n",
            "| epoch 204 |  iter 1 / 10 | time 0[s] | loss 0.16\n",
            "| epoch 205 |  iter 1 / 10 | time 0[s] | loss 0.14\n",
            "| epoch 206 |  iter 1 / 10 | time 0[s] | loss 0.16\n",
            "| epoch 207 |  iter 1 / 10 | time 0[s] | loss 0.16\n",
            "| epoch 208 |  iter 1 / 10 | time 0[s] | loss 0.14\n",
            "| epoch 209 |  iter 1 / 10 | time 0[s] | loss 0.15\n",
            "| epoch 210 |  iter 1 / 10 | time 0[s] | loss 0.16\n",
            "| epoch 211 |  iter 1 / 10 | time 0[s] | loss 0.14\n",
            "| epoch 212 |  iter 1 / 10 | time 0[s] | loss 0.15\n",
            "| epoch 213 |  iter 1 / 10 | time 0[s] | loss 0.15\n",
            "| epoch 214 |  iter 1 / 10 | time 0[s] | loss 0.15\n",
            "| epoch 215 |  iter 1 / 10 | time 0[s] | loss 0.14\n",
            "| epoch 216 |  iter 1 / 10 | time 0[s] | loss 0.14\n",
            "| epoch 217 |  iter 1 / 10 | time 0[s] | loss 0.15\n",
            "| epoch 218 |  iter 1 / 10 | time 0[s] | loss 0.14\n",
            "| epoch 219 |  iter 1 / 10 | time 0[s] | loss 0.15\n",
            "| epoch 220 |  iter 1 / 10 | time 0[s] | loss 0.15\n",
            "| epoch 221 |  iter 1 / 10 | time 0[s] | loss 0.14\n",
            "| epoch 222 |  iter 1 / 10 | time 0[s] | loss 0.13\n",
            "| epoch 223 |  iter 1 / 10 | time 0[s] | loss 0.15\n",
            "| epoch 224 |  iter 1 / 10 | time 0[s] | loss 0.14\n",
            "| epoch 225 |  iter 1 / 10 | time 0[s] | loss 0.16\n",
            "| epoch 226 |  iter 1 / 10 | time 0[s] | loss 0.12\n",
            "| epoch 227 |  iter 1 / 10 | time 0[s] | loss 0.13\n",
            "| epoch 228 |  iter 1 / 10 | time 0[s] | loss 0.15\n",
            "| epoch 229 |  iter 1 / 10 | time 0[s] | loss 0.14\n",
            "| epoch 230 |  iter 1 / 10 | time 0[s] | loss 0.13\n",
            "| epoch 231 |  iter 1 / 10 | time 0[s] | loss 0.14\n",
            "| epoch 232 |  iter 1 / 10 | time 0[s] | loss 0.13\n",
            "| epoch 233 |  iter 1 / 10 | time 0[s] | loss 0.13\n",
            "| epoch 234 |  iter 1 / 10 | time 0[s] | loss 0.14\n",
            "| epoch 235 |  iter 1 / 10 | time 0[s] | loss 0.13\n",
            "| epoch 236 |  iter 1 / 10 | time 0[s] | loss 0.12\n",
            "| epoch 237 |  iter 1 / 10 | time 0[s] | loss 0.13\n",
            "| epoch 238 |  iter 1 / 10 | time 0[s] | loss 0.14\n",
            "| epoch 239 |  iter 1 / 10 | time 0[s] | loss 0.14\n",
            "| epoch 240 |  iter 1 / 10 | time 0[s] | loss 0.13\n",
            "| epoch 241 |  iter 1 / 10 | time 0[s] | loss 0.14\n",
            "| epoch 242 |  iter 1 / 10 | time 0[s] | loss 0.13\n",
            "| epoch 243 |  iter 1 / 10 | time 0[s] | loss 0.13\n",
            "| epoch 244 |  iter 1 / 10 | time 0[s] | loss 0.14\n",
            "| epoch 245 |  iter 1 / 10 | time 0[s] | loss 0.12\n",
            "| epoch 246 |  iter 1 / 10 | time 0[s] | loss 0.13\n",
            "| epoch 247 |  iter 1 / 10 | time 0[s] | loss 0.13\n",
            "| epoch 248 |  iter 1 / 10 | time 0[s] | loss 0.12\n",
            "| epoch 249 |  iter 1 / 10 | time 0[s] | loss 0.14\n",
            "| epoch 250 |  iter 1 / 10 | time 0[s] | loss 0.12\n",
            "| epoch 251 |  iter 1 / 10 | time 0[s] | loss 0.13\n",
            "| epoch 252 |  iter 1 / 10 | time 0[s] | loss 0.13\n",
            "| epoch 253 |  iter 1 / 10 | time 0[s] | loss 0.12\n",
            "| epoch 254 |  iter 1 / 10 | time 0[s] | loss 0.12\n",
            "| epoch 255 |  iter 1 / 10 | time 0[s] | loss 0.13\n",
            "| epoch 256 |  iter 1 / 10 | time 0[s] | loss 0.12\n",
            "| epoch 257 |  iter 1 / 10 | time 0[s] | loss 0.12\n",
            "| epoch 258 |  iter 1 / 10 | time 0[s] | loss 0.12\n",
            "| epoch 259 |  iter 1 / 10 | time 0[s] | loss 0.13\n",
            "| epoch 260 |  iter 1 / 10 | time 0[s] | loss 0.13\n",
            "| epoch 261 |  iter 1 / 10 | time 0[s] | loss 0.11\n",
            "| epoch 262 |  iter 1 / 10 | time 0[s] | loss 0.13\n",
            "| epoch 263 |  iter 1 / 10 | time 0[s] | loss 0.12\n",
            "| epoch 264 |  iter 1 / 10 | time 0[s] | loss 0.11\n",
            "| epoch 265 |  iter 1 / 10 | time 0[s] | loss 0.14\n",
            "| epoch 266 |  iter 1 / 10 | time 0[s] | loss 0.11\n",
            "| epoch 267 |  iter 1 / 10 | time 0[s] | loss 0.13\n",
            "| epoch 268 |  iter 1 / 10 | time 0[s] | loss 0.11\n",
            "| epoch 269 |  iter 1 / 10 | time 0[s] | loss 0.13\n",
            "| epoch 270 |  iter 1 / 10 | time 0[s] | loss 0.11\n",
            "| epoch 271 |  iter 1 / 10 | time 0[s] | loss 0.12\n",
            "| epoch 272 |  iter 1 / 10 | time 0[s] | loss 0.12\n",
            "| epoch 273 |  iter 1 / 10 | time 0[s] | loss 0.12\n",
            "| epoch 274 |  iter 1 / 10 | time 0[s] | loss 0.12\n",
            "| epoch 275 |  iter 1 / 10 | time 0[s] | loss 0.12\n",
            "| epoch 276 |  iter 1 / 10 | time 0[s] | loss 0.12\n",
            "| epoch 277 |  iter 1 / 10 | time 0[s] | loss 0.11\n",
            "| epoch 278 |  iter 1 / 10 | time 0[s] | loss 0.13\n",
            "| epoch 279 |  iter 1 / 10 | time 0[s] | loss 0.11\n",
            "| epoch 280 |  iter 1 / 10 | time 0[s] | loss 0.10\n",
            "| epoch 281 |  iter 1 / 10 | time 0[s] | loss 0.12\n",
            "| epoch 282 |  iter 1 / 10 | time 0[s] | loss 0.11\n",
            "| epoch 283 |  iter 1 / 10 | time 0[s] | loss 0.12\n",
            "| epoch 284 |  iter 1 / 10 | time 0[s] | loss 0.11\n",
            "| epoch 285 |  iter 1 / 10 | time 0[s] | loss 0.11\n",
            "| epoch 286 |  iter 1 / 10 | time 0[s] | loss 0.12\n",
            "| epoch 287 |  iter 1 / 10 | time 0[s] | loss 0.11\n",
            "| epoch 288 |  iter 1 / 10 | time 0[s] | loss 0.11\n",
            "| epoch 289 |  iter 1 / 10 | time 0[s] | loss 0.12\n",
            "| epoch 290 |  iter 1 / 10 | time 0[s] | loss 0.11\n",
            "| epoch 291 |  iter 1 / 10 | time 0[s] | loss 0.11\n",
            "| epoch 292 |  iter 1 / 10 | time 0[s] | loss 0.11\n",
            "| epoch 293 |  iter 1 / 10 | time 0[s] | loss 0.11\n",
            "| epoch 294 |  iter 1 / 10 | time 0[s] | loss 0.11\n",
            "| epoch 295 |  iter 1 / 10 | time 0[s] | loss 0.11\n",
            "| epoch 296 |  iter 1 / 10 | time 0[s] | loss 0.12\n",
            "| epoch 297 |  iter 1 / 10 | time 0[s] | loss 0.11\n",
            "| epoch 298 |  iter 1 / 10 | time 0[s] | loss 0.11\n",
            "| epoch 299 |  iter 1 / 10 | time 0[s] | loss 0.11\n",
            "| epoch 300 |  iter 1 / 10 | time 0[s] | loss 0.11\n"
          ],
          "name": "stdout"
        },
        {
          "output_type": "display_data",
          "data": {
            "image/png": "[encoded data removed]",
            "text/plain": [
              "<Figure size 432x288 with 1 Axes>"
            ]
          },
          "metadata": {
            "tags": [],
            "needs_background": "light"
          }
        }
      ]
    },
    {
      "cell_type": "markdown",
      "metadata": {
        "id": "oc-qUEBkvjpw",
        "colab_type": "text"
      },
      "source": [
        "1.5 計算の高速化\n",
        "* ニューラルネットワークはいかに高速に計算するかということが重要なテーマとなる。"
      ]
    },
    {
      "cell_type": "markdown",
      "metadata": {
        "id": "_khAi2QNwHXf",
        "colab_type": "text"
      },
      "source": [
        "1.5.1 ビット精度\n",
        "* Numpyでは標準で64ビットの浮動小数点数が使われる。\n",
        "* しかし、ニューラルネットワークの推論および学習は32ビットの浮動小数点数で問題なく行えることが知られている。\n",
        "* Numpyで32ビット浮動小数点数を使うには、次のようにデータの型をnp.float32や'f'と指定する。"
      ]
    },
    {
      "cell_type": "code",
      "metadata": {
        "id": "9GT3cScxwNjD",
        "colab_type": "code",
        "colab": {
          "base_uri": "https://localhost:8080/",
          "height": 35
        },
        "outputId": "fd64afd8-b61a-480f-d090-c7164c21d376"
      },
      "source": [
        "import numpy as np\n",
        "a = np.random.randn(3)\n",
        "a.dtype"
      ],
      "execution_count": 51,
      "outputs": [
        {
          "output_type": "execute_result",
          "data": {
            "text/plain": [
              "dtype('float64')"
            ]
          },
          "metadata": {
            "tags": []
          },
          "execution_count": 51
        }
      ]
    },
    {
      "cell_type": "code",
      "metadata": {
        "id": "CwVHcOeHwgeb",
        "colab_type": "code",
        "colab": {
          "base_uri": "https://localhost:8080/",
          "height": 35
        },
        "outputId": "b40adb66-eebd-43f0-8fee-6a1491a00e1f"
      },
      "source": [
        "b = np.random.randn(3).astype(np.float32)\n",
        "b.dtype"
      ],
      "execution_count": 52,
      "outputs": [
        {
          "output_type": "execute_result",
          "data": {
            "text/plain": [
              "dtype('float32')"
            ]
          },
          "metadata": {
            "tags": []
          },
          "execution_count": 52
        }
      ]
    },
    {
      "cell_type": "code",
      "metadata": {
        "id": "djDKgqKgwwxz",
        "colab_type": "code",
        "colab": {
          "base_uri": "https://localhost:8080/",
          "height": 35
        },
        "outputId": "af989ea8-46ca-4ad9-b08d-da516c9dacf2"
      },
      "source": [
        "c = np.random.randn(3).astype('f')\n",
        "c.dtype"
      ],
      "execution_count": 54,
      "outputs": [
        {
          "output_type": "execute_result",
          "data": {
            "text/plain": [
              "dtype('float32')"
            ]
          },
          "metadata": {
            "tags": []
          },
          "execution_count": 54
        }
      ]
    },
    {
      "cell_type": "markdown",
      "metadata": {
        "id": "FeRWwscxymhb",
        "colab_type": "text"
      },
      "source": [
        "1.5.2 GPU(Cupy)\n",
        "* ここから先はGoogle ColabのランタイムをGPUに切り替える。"
      ]
    },
    {
      "cell_type": "code",
      "metadata": {
        "id": "rAlL4DqZ06kj",
        "colab_type": "code",
        "colab": {
          "base_uri": "https://localhost:8080/",
          "height": 53
        },
        "outputId": "35fdea66-1bd3-4a8a-fa39-7b0f0c57fb72"
      },
      "source": [
        "import cupy as cp\n",
        "x = cp.arange(6).reshape(2, 3).astype('f')\n",
        "x"
      ],
      "execution_count": 4,
      "outputs": [
        {
          "output_type": "execute_result",
          "data": {
            "text/plain": [
              "array([[0., 1., 2.],\n",
              "       [3., 4., 5.]], dtype=float32)"
            ]
          },
          "metadata": {
            "tags": []
          },
          "execution_count": 4
        }
      ]
    },
    {
      "cell_type": "code",
      "metadata": {
        "id": "xeEdBtO_1Zkw",
        "colab_type": "code",
        "colab": {
          "base_uri": "https://localhost:8080/",
          "height": 35
        },
        "outputId": "5542669b-a025-460a-89ba-663183ef9c82"
      },
      "source": [
        "x.sum(axis=1)"
      ],
      "execution_count": 5,
      "outputs": [
        {
          "output_type": "execute_result",
          "data": {
            "text/plain": [
              "array([ 3., 12.], dtype=float32)"
            ]
          },
          "metadata": {
            "tags": []
          },
          "execution_count": 5
        }
      ]
    },
    {
      "cell_type": "markdown",
      "metadata": {
        "id": "qpiqOLat1pKU",
        "colab_type": "text"
      },
      "source": [
        "1.6 まとめ\n",
        "* ニューラルネットワークの基本的な復習です。"
      ]
    }
  ]
}